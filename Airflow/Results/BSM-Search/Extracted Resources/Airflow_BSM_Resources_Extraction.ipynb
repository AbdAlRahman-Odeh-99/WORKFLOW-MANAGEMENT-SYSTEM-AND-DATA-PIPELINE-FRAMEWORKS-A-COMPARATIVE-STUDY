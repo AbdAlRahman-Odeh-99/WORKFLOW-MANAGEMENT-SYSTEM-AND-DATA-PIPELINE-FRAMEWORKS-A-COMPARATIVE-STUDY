{
  "nbformat": 4,
  "nbformat_minor": 0,
  "metadata": {
    "colab": {
      "provenance": []
    },
    "kernelspec": {
      "name": "python3",
      "display_name": "Python 3"
    },
    "language_info": {
      "name": "python"
    }
  },
  "cells": [
    {
      "cell_type": "markdown",
      "source": [
        "#Extracting Resources"
      ],
      "metadata": {
        "id": "NoY4QvTKoIT5"
      }
    },
    {
      "cell_type": "markdown",
      "source": [
        "##1. Import Required Libraries"
      ],
      "metadata": {
        "id": "oXOMIVqHoMEx"
      }
    },
    {
      "cell_type": "code",
      "source": [
        "# Import libraries\n",
        "import pandas as pd\n",
        "from numpy import mean, std, min, max\n",
        "import matplotlib.pyplot as plt\n",
        "from google.colab import files"
      ],
      "metadata": {
        "id": "x2U5Wu4-tutp"
      },
      "execution_count": 1,
      "outputs": []
    },
    {
      "cell_type": "markdown",
      "source": [
        "##2. Read & Pre-Process Data"
      ],
      "metadata": {
        "id": "D4vt9FdOoiZd"
      }
    },
    {
      "cell_type": "code",
      "source": [
        "# Set WMS & workflow name\n",
        "wms = \"Airflow\"\n",
        "workflow = \"BSM_Search\"\n",
        "# Load the text file into a pandas DataFrame with no header row\n",
        "resources_df = pd.read_csv('/content/Airflow-BSM-Search-Resources.txt', delimiter=',', header=None)"
      ],
      "metadata": {
        "id": "PxQwEYphtw-0"
      },
      "execution_count": 2,
      "outputs": []
    },
    {
      "cell_type": "code",
      "source": [
        "# Define column names\n",
        "COLUMN_NAMES = [\"Date\", \"Core_Numbers\", \"Core_1_Usage\", \"Core_2_Usage\", \"Core_3_Usage\", \"Core_4_Usage\", \"CPU_Usage\",\n",
        "                \"Total_Memory\", \"Used_Memory\", \"Memory_Usage\",\n",
        "                \"Total_Disk\", \"Used_Disk\", \"Disk_Usage\",\n",
        "                \"Sent_Bytes\", \"Received_Bytes\"]"
      ],
      "metadata": {
        "id": "m_fH39-Tt1fE"
      },
      "execution_count": 3,
      "outputs": []
    },
    {
      "cell_type": "code",
      "source": [
        "# Set column names\n",
        "resources_df.columns = COLUMN_NAMES"
      ],
      "metadata": {
        "id": "cVsBliPDvHuZ"
      },
      "execution_count": 4,
      "outputs": []
    },
    {
      "cell_type": "code",
      "source": [
        "# Insert duration column\n",
        "resources_df.insert(1, \"Duration (Seconds)\", [second for second in range(1, len(resources_df)+1)])"
      ],
      "metadata": {
        "id": "pmiFGnz5vksT"
      },
      "execution_count": 5,
      "outputs": []
    },
    {
      "cell_type": "markdown",
      "source": [
        "##3. Calculate & Save Resources Percentages"
      ],
      "metadata": {
        "id": "P11De5G8xGZ5"
      }
    },
    {
      "cell_type": "code",
      "source": [
        "# Extract useful columns\n",
        "usage_percentages_df = resources_df[[\"Duration (Seconds)\", \"CPU_Usage\", \"Memory_Usage\", \"Disk_Usage\", \"Sent_Bytes\", \"Received_Bytes\"]]"
      ],
      "metadata": {
        "id": "P-xZdwGE0y5W"
      },
      "execution_count": 6,
      "outputs": []
    },
    {
      "cell_type": "code",
      "source": [
        "# Transforming the columns\n",
        "usage_percentages_df[\"Disk_Usage\"] = usage_percentages_df[\"Disk_Usage\"] - usage_percentages_df[\"Disk_Usage\"][0]\n",
        "usage_percentages_df[\"Sent_Bytes\"] = (usage_percentages_df[\"Sent_Bytes\"] - usage_percentages_df[\"Sent_Bytes\"][0]) / (1024**3)\n",
        "usage_percentages_df[\"Received_Bytes\"] = (usage_percentages_df[\"Received_Bytes\"] - usage_percentages_df[\"Received_Bytes\"][0]) / (1024**3)"
      ],
      "metadata": {
        "colab": {
          "base_uri": "https://localhost:8080/"
        },
        "id": "nLmJBIJkBYUT",
        "outputId": "8baabbd0-42e6-428a-e3f0-747edd2ea9c2"
      },
      "execution_count": 7,
      "outputs": [
        {
          "output_type": "stream",
          "name": "stderr",
          "text": [
            "<ipython-input-7-4bdfc91db41b>:2: SettingWithCopyWarning: \n",
            "A value is trying to be set on a copy of a slice from a DataFrame.\n",
            "Try using .loc[row_indexer,col_indexer] = value instead\n",
            "\n",
            "See the caveats in the documentation: https://pandas.pydata.org/pandas-docs/stable/user_guide/indexing.html#returning-a-view-versus-a-copy\n",
            "  usage_percentages_df[\"Disk_Usage\"] = usage_percentages_df[\"Disk_Usage\"] - usage_percentages_df[\"Disk_Usage\"][0]\n",
            "<ipython-input-7-4bdfc91db41b>:3: SettingWithCopyWarning: \n",
            "A value is trying to be set on a copy of a slice from a DataFrame.\n",
            "Try using .loc[row_indexer,col_indexer] = value instead\n",
            "\n",
            "See the caveats in the documentation: https://pandas.pydata.org/pandas-docs/stable/user_guide/indexing.html#returning-a-view-versus-a-copy\n",
            "  usage_percentages_df[\"Sent_Bytes\"] = (usage_percentages_df[\"Sent_Bytes\"] - usage_percentages_df[\"Sent_Bytes\"][0]) / (1024**3)\n",
            "<ipython-input-7-4bdfc91db41b>:4: SettingWithCopyWarning: \n",
            "A value is trying to be set on a copy of a slice from a DataFrame.\n",
            "Try using .loc[row_indexer,col_indexer] = value instead\n",
            "\n",
            "See the caveats in the documentation: https://pandas.pydata.org/pandas-docs/stable/user_guide/indexing.html#returning-a-view-versus-a-copy\n",
            "  usage_percentages_df[\"Received_Bytes\"] = (usage_percentages_df[\"Received_Bytes\"] - usage_percentages_df[\"Received_Bytes\"][0]) / (1024**3)\n"
          ]
        }
      ]
    },
    {
      "cell_type": "code",
      "source": [
        "# Define a function to calculate the average of the usages\n",
        "def calculate_average(component, base_usage, target_usage, disk_base_usage, disk_target_usage):\n",
        "  if component == \"BASE\":\n",
        "    AVERAGE_CPU_USAGE = mean(target_usage[\"CPU_Usage\"])\n",
        "    AVERAGE_MEMORY_USAGE = mean(target_usage[\"Memory_Usage\"])\n",
        "    AVERAGE_DISK_USAGE = mean(disk_target_usage[\"Disk_Usage\"])\n",
        "  elif component == \"SERVER\":\n",
        "    AVERAGE_CPU_USAGE =  mean(target_usage[\"CPU_Usage\"]) - mean(base_usage[\"CPU_Usage\"])\n",
        "    AVERAGE_MEMORY_USAGE = mean(target_usage[\"Memory_Usage\"]) - mean(base_usage[\"Memory_Usage\"])\n",
        "    AVERAGE_DISK_USAGE = mean(disk_target_usage[\"Disk_Usage\"]) - mean(disk_base_usage[\"Disk_Usage\"])\n",
        "  elif component == \"WORKFLOW\":\n",
        "    AVERAGE_CPU_USAGE =  mean(target_usage[\"CPU_Usage\"]) - mean(base_usage[\"CPU_Usage\"][:60])\n",
        "    AVERAGE_MEMORY_USAGE = mean(target_usage[\"Memory_Usage\"]) - mean(base_usage[\"Memory_Usage\"][:60])\n",
        "    AVERAGE_DISK_USAGE = mean(disk_target_usage[\"Disk_Usage\"]) - mean(disk_base_usage[\"Disk_Usage\"][:60])\n",
        "  return AVERAGE_CPU_USAGE, AVERAGE_MEMORY_USAGE, AVERAGE_DISK_USAGE"
      ],
      "metadata": {
        "id": "t_pWW9F34aIu"
      },
      "execution_count": 8,
      "outputs": []
    },
    {
      "cell_type": "code",
      "source": [
        "# Define a function to calculate the STD of the usages\n",
        "def calculate_std(component, base_usage, target_usage, disk_base_usage, disk_target_usage):\n",
        "  if component == \"BASE\":\n",
        "    STD_CPU_USAGE = std(target_usage[\"CPU_Usage\"])\n",
        "    STD_MEMORY_USAGE = std(target_usage[\"Memory_Usage\"])\n",
        "    STD_DISK_USAGE = std(disk_target_usage[\"Disk_Usage\"])\n",
        "  elif component == \"SERVER\":\n",
        "    STD_CPU_USAGE = std(target_usage[\"CPU_Usage\"] - mean(base_usage[\"CPU_Usage\"]))\n",
        "    STD_MEMORY_USAGE = std(target_usage[\"Memory_Usage\"] - mean(base_usage[\"Memory_Usage\"]))\n",
        "    STD_DISK_USAGE = std(disk_target_usage[\"Disk_Usage\"] - mean(disk_base_usage[\"Disk_Usage\"]))\n",
        "  elif component == \"WORKFLOW\":\n",
        "    STD_CPU_USAGE = std(target_usage[\"CPU_Usage\"] - mean(base_usage[\"CPU_Usage\"][:60]))\n",
        "    STD_MEMORY_USAGE = std(target_usage[\"Memory_Usage\"] - mean(base_usage[\"Memory_Usage\"][:60]))\n",
        "    STD_DISK_USAGE = std(disk_target_usage[\"Disk_Usage\"] - mean(disk_base_usage[\"Disk_Usage\"][:60]))\n",
        "  return STD_CPU_USAGE, STD_MEMORY_USAGE, STD_DISK_USAGE"
      ],
      "metadata": {
        "id": "-Jo6ITDVHeVz"
      },
      "execution_count": 9,
      "outputs": []
    },
    {
      "cell_type": "code",
      "source": [
        "# Define a function to calculate the CV of the usages\n",
        "def calculate_cv(std, mean):\n",
        "  if mean == 0:\n",
        "    return 0\n",
        "  else:\n",
        "    return (std/mean)*100"
      ],
      "metadata": {
        "id": "QAJhU93dITsf"
      },
      "execution_count": 10,
      "outputs": []
    },
    {
      "cell_type": "code",
      "source": [
        "# Define a function to return the minimum value for usage\n",
        "def return_min(target_usage, disk_target_usage):\n",
        "  return min(target_usage[\"CPU_Usage\"]), min(target_usage[\"Memory_Usage\"]), min(disk_target_usage[\"Disk_Usage\"])"
      ],
      "metadata": {
        "id": "E9YGtXDJJ2eD"
      },
      "execution_count": 11,
      "outputs": []
    },
    {
      "cell_type": "code",
      "source": [
        "# Define a function to return the maximum value for usage\n",
        "def return_max(target_usage, disk_target_usage):\n",
        "  return max(target_usage[\"CPU_Usage\"]), max(target_usage[\"Memory_Usage\"]), max(disk_target_usage[\"Disk_Usage\"])"
      ],
      "metadata": {
        "id": "08MmxDSSKYOP"
      },
      "execution_count": 12,
      "outputs": []
    },
    {
      "cell_type": "code",
      "source": [
        "# Define a function to calculate the usages\n",
        "def caluculate_usage(component, base_usage, target_usage, disk_base_usage, disk_target_usage):\n",
        "  results_dictionary = {}\n",
        "\n",
        "  AVERAGE_CPU_USAGE, AVERAGE_MEMORY_USAGE, AVERAGE_DISK_USAGE = calculate_average(component, base_usage, target_usage, disk_base_usage, disk_target_usage)\n",
        "  STD_CPU_USAGE, STD_MEMORY_USAGE, STD_DISK_USAGE = calculate_std(component, base_usage, target_usage, disk_base_usage, disk_target_usage)\n",
        "  CV_CPU_USAGE, CV_MEMORY_USAGE, CV_DISK_USAGE = calculate_cv(STD_CPU_USAGE, AVERAGE_CPU_USAGE), calculate_cv(STD_MEMORY_USAGE, AVERAGE_MEMORY_USAGE), calculate_cv(STD_DISK_USAGE, AVERAGE_DISK_USAGE)\n",
        "  \n",
        "  MIN_CPU_USAGE, MIN_MEMORY_USAGE, MIN_DISK_USAGE =  return_min(target_usage, disk_target_usage)\n",
        "  MAX_CPU_USAGE, MAX_MEMORY_USAGE, MAX_DISK_USAGE =  return_max(target_usage, disk_target_usage)\n",
        "\n",
        "  results_dictionary[\"AVERAGE_CPU_USAGE\"], results_dictionary[\"AVERAGE_MEMORY_USAGE\"], results_dictionary[\"AVERAGE_DISK_USAGE\"] = AVERAGE_CPU_USAGE, AVERAGE_MEMORY_USAGE, AVERAGE_DISK_USAGE\n",
        "  results_dictionary[\"STD_CPU_USAGE\"], results_dictionary[\"STD_MEMORY_USAGE\"], results_dictionary[\"STD_DISK_USAGE\"] = STD_CPU_USAGE, STD_MEMORY_USAGE, STD_DISK_USAGE\n",
        "  results_dictionary[\"CV_CPU_USAGE\"], results_dictionary[\"CV_MEMORY_USAGE\"], results_dictionary[\"CV_DISK_USAGE\"] = CV_CPU_USAGE, CV_MEMORY_USAGE, CV_DISK_USAGE\n",
        "  results_dictionary[\"MIN_CPU_USAGE\"], results_dictionary[\"MIN_MEMORY_USAGE\"], results_dictionary[\"MIN_DISK_USAGE\"] = MIN_CPU_USAGE, MIN_MEMORY_USAGE, MIN_DISK_USAGE\n",
        "  results_dictionary[\"MAX_CPU_USAGE\"], results_dictionary[\"MAX_MEMORY_USAGE\"], results_dictionary[\"MAX_DISK_USAGE\"] = MAX_CPU_USAGE, MAX_MEMORY_USAGE, MAX_DISK_USAGE\n",
        "  results_dictionary[\"SENT_BYTES\"] = disk_target_usage[\"Sent_Bytes\"].values[-1]\n",
        "  results_dictionary[\"RECEIVED_BYTES\"] = disk_target_usage[\"Received_Bytes\"].values[-1]\n",
        "\n",
        "  return results_dictionary"
      ],
      "metadata": {
        "id": "HhT53Fxz2-9F"
      },
      "execution_count": 13,
      "outputs": []
    },
    {
      "cell_type": "code",
      "source": [
        "# Save the calculation in dictionaries\n",
        "RESOURCES_USAGE = {}\n",
        "BASE_USAGE = caluculate_usage(\"BASE\", None, usage_percentages_df[-60:], None, usage_percentages_df[:60])\n",
        "SERVER_USAGE = caluculate_usage(\"SERVER\", usage_percentages_df[-60:], usage_percentages_df[-120:-60], usage_percentages_df[:60], usage_percentages_df[60:120])\n",
        "WORKFLOW_USAGE = caluculate_usage(\"WORKFLOW\", usage_percentages_df[-60:], usage_percentages_df[120:-120], usage_percentages_df[:60], usage_percentages_df[120:-120])"
      ],
      "metadata": {
        "id": "vTBc7yvb2OwW"
      },
      "execution_count": 14,
      "outputs": []
    },
    {
      "cell_type": "code",
      "source": [
        "TOTAL_USAGE = {\n",
        "               \"AVERAGE_CPU_USAGE\":0, \"AVERAGE_MEMORY_USAGE\":0, \"AVERAGE_DISK_USAGE\":0,\n",
        "               \"STD_CPU_USAGE\":0, \"STD_MEMORY_USAGE\":0, \"STD_DISK_USAGE\":0,\n",
        "               \"CV_CPU_USAGE\":0, \"CV_MEMORY_USAGE\":0, \"CV_DISK_USAGE\":0,\n",
        "               \"MIN_CPU_USAGE\":min(usage_percentages_df[\"CPU_Usage\"]), \"MIN_MEMORY_USAGE\":min(usage_percentages_df[\"Memory_Usage\"]), \"MIN_DISK_USAGE\":min(usage_percentages_df[\"Disk_Usage\"]),\n",
        "               \"MAX_CPU_USAGE\":max(usage_percentages_df[\"CPU_Usage\"]), \"MAX_MEMORY_USAGE\":max(usage_percentages_df[\"Memory_Usage\"]), \"MAX_DISK_USAGE\":max(usage_percentages_df[\"Disk_Usage\"]),\n",
        "               \"SENT_BYTES\": 0 , \"RECEIVED_BYTES\": 0\n",
        "}"
      ],
      "metadata": {
        "id": "da2WkkJ3uiQ3"
      },
      "execution_count": 15,
      "outputs": []
    },
    {
      "cell_type": "code",
      "source": [
        "# Save the base, server & workflow usages to the resources usage dictionary\n",
        "RESOURCES_USAGE = {\"BASE_USAGE\":BASE_USAGE, \"SERVER_USAGE\":SERVER_USAGE, \"WORKFLOW_USAGE\":WORKFLOW_USAGE}"
      ],
      "metadata": {
        "id": "XzjhPHPJH2OP"
      },
      "execution_count": 16,
      "outputs": []
    },
    {
      "cell_type": "code",
      "source": [
        "# Calculate the total usage\n",
        "for component in RESOURCES_USAGE.keys():\n",
        "  for RESOURCES_TYPE in RESOURCES_USAGE[component].keys():\n",
        "    if \"MIN\" in RESOURCES_TYPE or \"MAX\" in RESOURCES_TYPE:\n",
        "      continue\n",
        "    else:\n",
        "      TOTAL_USAGE[RESOURCES_TYPE] += RESOURCES_USAGE[component][RESOURCES_TYPE]"
      ],
      "metadata": {
        "id": "n6siV0xMDNb-"
      },
      "execution_count": 17,
      "outputs": []
    },
    {
      "cell_type": "code",
      "source": [
        "# Save the total usage to the resources usage dictionary\n",
        "RESOURCES_USAGE = {\"TOTAL_USAGE\":TOTAL_USAGE, \"BASE_USAGE\":BASE_USAGE, \"SERVER_USAGE\":SERVER_USAGE, \"WORKFLOW_USAGE\":WORKFLOW_USAGE}"
      ],
      "metadata": {
        "id": "MEyxPSDKE-3G"
      },
      "execution_count": 18,
      "outputs": []
    },
    {
      "cell_type": "code",
      "source": [
        "# Create DataFrames of the results\n",
        "RESULTS_DF = pd.DataFrame(RESOURCES_USAGE)\n",
        "T_RESULTS_DF = RESULTS_DF.T\n",
        "AVERAGE_DF = T_RESULTS_DF.iloc[:, [i for i in range (0,3)]]\n",
        "STD_DF = T_RESULTS_DF.iloc[:, [i for i in range (3,6)]]\n",
        "CV_DF = T_RESULTS_DF.iloc[:, [i for i in range (6,9)]]\n",
        "MIN_DF = T_RESULTS_DF.iloc[:, [i for i in range (9,12)]]\n",
        "MAX_DF = T_RESULTS_DF.iloc[:, [i for i in range (12,15)]]\n",
        "CPU_DF = T_RESULTS_DF.iloc[:, [i for i in range (0,T_RESULTS_DF.shape[1]-2,3)]]\n",
        "MEMORY_DF = T_RESULTS_DF.iloc[:, [i for i in range (1,T_RESULTS_DF.shape[1]-2,3)]]\n",
        "DISK_DF = T_RESULTS_DF.iloc[:, [i for i in range (2,T_RESULTS_DF.shape[1]-2,3)]]\n",
        "SENT_BYTES_DF = T_RESULTS_DF.iloc[:, [-2]]\n",
        "RECEIVED_BYTES_DF = T_RESULTS_DF.iloc[:, [-1]]"
      ],
      "metadata": {
        "id": "2jcy8dp_sJ5D"
      },
      "execution_count": 19,
      "outputs": []
    },
    {
      "cell_type": "code",
      "source": [
        "# Save the results\n",
        "RESULTS_DF.to_csv(f'{wms}_{workflow}_Results.csv')\n",
        "T_RESULTS_DF.to_csv(f'{wms}_{workflow}_Transposed_Results.csv')\n",
        "AVERAGE_DF.to_csv(f'{wms}_{workflow}_Average.csv')\n",
        "STD_DF.to_csv(f'{wms}_{workflow}_STD.csv')\n",
        "CV_DF.to_csv(f'{wms}_{workflow}_CV.csv')\n",
        "MIN_DF.to_csv(f'{wms}_{workflow}_Min.csv')\n",
        "MAX_DF.to_csv(f'{wms}_{workflow}_Max.csv')\n",
        "CPU_DF.to_csv(f'{wms}_{workflow}_CPU.csv')\n",
        "MEMORY_DF.to_csv(f'{wms}_{workflow}_Memory.csv')\n",
        "DISK_DF.to_csv(f'{wms}_{workflow}_Disk.csv')\n",
        "SENT_BYTES_DF.to_csv(f'{wms}_{workflow}_Sent_Bytes.csv')\n",
        "RECEIVED_BYTES_DF.to_csv(f'{wms}_{workflow}_Received_Bytes.csv')"
      ],
      "metadata": {
        "id": "I63P2T5iueQ8"
      },
      "execution_count": 20,
      "outputs": []
    },
    {
      "cell_type": "code",
      "source": [
        "# Download CSV files to your local device\n",
        "files.download(f'{wms}_{workflow}_Results.csv')\n",
        "files.download(f'{wms}_{workflow}_Transposed_Results.csv')\n",
        "files.download(f'{wms}_{workflow}_Average.csv')\n",
        "files.download(f'{wms}_{workflow}_STD.csv')\n",
        "files.download(f'{wms}_{workflow}_CV.csv')\n",
        "files.download(f'{wms}_{workflow}_Min.csv')\n",
        "files.download(f'{wms}_{workflow}_Max.csv')\n",
        "files.download(f'{wms}_{workflow}_CPU.csv')\n",
        "files.download(f'{wms}_{workflow}_Memory.csv')\n",
        "files.download(f'{wms}_{workflow}_Disk.csv')"
      ],
      "metadata": {
        "colab": {
          "base_uri": "https://localhost:8080/",
          "height": 17
        },
        "id": "EOUjUQLMzj-1",
        "outputId": "89abd279-edcd-4b34-c4f2-35f46000cfa2"
      },
      "execution_count": 21,
      "outputs": [
        {
          "output_type": "display_data",
          "data": {
            "text/plain": [
              "<IPython.core.display.Javascript object>"
            ],
            "application/javascript": [
              "\n",
              "    async function download(id, filename, size) {\n",
              "      if (!google.colab.kernel.accessAllowed) {\n",
              "        return;\n",
              "      }\n",
              "      const div = document.createElement('div');\n",
              "      const label = document.createElement('label');\n",
              "      label.textContent = `Downloading \"${filename}\": `;\n",
              "      div.appendChild(label);\n",
              "      const progress = document.createElement('progress');\n",
              "      progress.max = size;\n",
              "      div.appendChild(progress);\n",
              "      document.body.appendChild(div);\n",
              "\n",
              "      const buffers = [];\n",
              "      let downloaded = 0;\n",
              "\n",
              "      const channel = await google.colab.kernel.comms.open(id);\n",
              "      // Send a message to notify the kernel that we're ready.\n",
              "      channel.send({})\n",
              "\n",
              "      for await (const message of channel.messages) {\n",
              "        // Send a message to notify the kernel that we're ready.\n",
              "        channel.send({})\n",
              "        if (message.buffers) {\n",
              "          for (const buffer of message.buffers) {\n",
              "            buffers.push(buffer);\n",
              "            downloaded += buffer.byteLength;\n",
              "            progress.value = downloaded;\n",
              "          }\n",
              "        }\n",
              "      }\n",
              "      const blob = new Blob(buffers, {type: 'application/binary'});\n",
              "      const a = document.createElement('a');\n",
              "      a.href = window.URL.createObjectURL(blob);\n",
              "      a.download = filename;\n",
              "      div.appendChild(a);\n",
              "      a.click();\n",
              "      div.remove();\n",
              "    }\n",
              "  "
            ]
          },
          "metadata": {}
        },
        {
          "output_type": "display_data",
          "data": {
            "text/plain": [
              "<IPython.core.display.Javascript object>"
            ],
            "application/javascript": [
              "download(\"download_fd5a9ffd-d5d3-44ba-a5d5-53da6fdda3e8\", \"Airflow_BSM_Search_Results.csv\", 1086)"
            ]
          },
          "metadata": {}
        },
        {
          "output_type": "display_data",
          "data": {
            "text/plain": [
              "<IPython.core.display.Javascript object>"
            ],
            "application/javascript": [
              "\n",
              "    async function download(id, filename, size) {\n",
              "      if (!google.colab.kernel.accessAllowed) {\n",
              "        return;\n",
              "      }\n",
              "      const div = document.createElement('div');\n",
              "      const label = document.createElement('label');\n",
              "      label.textContent = `Downloading \"${filename}\": `;\n",
              "      div.appendChild(label);\n",
              "      const progress = document.createElement('progress');\n",
              "      progress.max = size;\n",
              "      div.appendChild(progress);\n",
              "      document.body.appendChild(div);\n",
              "\n",
              "      const buffers = [];\n",
              "      let downloaded = 0;\n",
              "\n",
              "      const channel = await google.colab.kernel.comms.open(id);\n",
              "      // Send a message to notify the kernel that we're ready.\n",
              "      channel.send({})\n",
              "\n",
              "      for await (const message of channel.messages) {\n",
              "        // Send a message to notify the kernel that we're ready.\n",
              "        channel.send({})\n",
              "        if (message.buffers) {\n",
              "          for (const buffer of message.buffers) {\n",
              "            buffers.push(buffer);\n",
              "            downloaded += buffer.byteLength;\n",
              "            progress.value = downloaded;\n",
              "          }\n",
              "        }\n",
              "      }\n",
              "      const blob = new Blob(buffers, {type: 'application/binary'});\n",
              "      const a = document.createElement('a');\n",
              "      a.href = window.URL.createObjectURL(blob);\n",
              "      a.download = filename;\n",
              "      div.appendChild(a);\n",
              "      a.click();\n",
              "      div.remove();\n",
              "    }\n",
              "  "
            ]
          },
          "metadata": {}
        },
        {
          "output_type": "display_data",
          "data": {
            "text/plain": [
              "<IPython.core.display.Javascript object>"
            ],
            "application/javascript": [
              "download(\"download_55eb7461-4426-41f3-a136-d70ac6d09510\", \"Airflow_BSM_Search_Transposed_Results.csv\", 1086)"
            ]
          },
          "metadata": {}
        },
        {
          "output_type": "display_data",
          "data": {
            "text/plain": [
              "<IPython.core.display.Javascript object>"
            ],
            "application/javascript": [
              "\n",
              "    async function download(id, filename, size) {\n",
              "      if (!google.colab.kernel.accessAllowed) {\n",
              "        return;\n",
              "      }\n",
              "      const div = document.createElement('div');\n",
              "      const label = document.createElement('label');\n",
              "      label.textContent = `Downloading \"${filename}\": `;\n",
              "      div.appendChild(label);\n",
              "      const progress = document.createElement('progress');\n",
              "      progress.max = size;\n",
              "      div.appendChild(progress);\n",
              "      document.body.appendChild(div);\n",
              "\n",
              "      const buffers = [];\n",
              "      let downloaded = 0;\n",
              "\n",
              "      const channel = await google.colab.kernel.comms.open(id);\n",
              "      // Send a message to notify the kernel that we're ready.\n",
              "      channel.send({})\n",
              "\n",
              "      for await (const message of channel.messages) {\n",
              "        // Send a message to notify the kernel that we're ready.\n",
              "        channel.send({})\n",
              "        if (message.buffers) {\n",
              "          for (const buffer of message.buffers) {\n",
              "            buffers.push(buffer);\n",
              "            downloaded += buffer.byteLength;\n",
              "            progress.value = downloaded;\n",
              "          }\n",
              "        }\n",
              "      }\n",
              "      const blob = new Blob(buffers, {type: 'application/binary'});\n",
              "      const a = document.createElement('a');\n",
              "      a.href = window.URL.createObjectURL(blob);\n",
              "      a.download = filename;\n",
              "      div.appendChild(a);\n",
              "      a.click();\n",
              "      div.remove();\n",
              "    }\n",
              "  "
            ]
          },
          "metadata": {}
        },
        {
          "output_type": "display_data",
          "data": {
            "text/plain": [
              "<IPython.core.display.Javascript object>"
            ],
            "application/javascript": [
              "download(\"download_a567d7b2-7379-4aee-b4b6-450151c548b7\", \"Airflow_BSM_Search_Average.csv\", 264)"
            ]
          },
          "metadata": {}
        },
        {
          "output_type": "display_data",
          "data": {
            "text/plain": [
              "<IPython.core.display.Javascript object>"
            ],
            "application/javascript": [
              "\n",
              "    async function download(id, filename, size) {\n",
              "      if (!google.colab.kernel.accessAllowed) {\n",
              "        return;\n",
              "      }\n",
              "      const div = document.createElement('div');\n",
              "      const label = document.createElement('label');\n",
              "      label.textContent = `Downloading \"${filename}\": `;\n",
              "      div.appendChild(label);\n",
              "      const progress = document.createElement('progress');\n",
              "      progress.max = size;\n",
              "      div.appendChild(progress);\n",
              "      document.body.appendChild(div);\n",
              "\n",
              "      const buffers = [];\n",
              "      let downloaded = 0;\n",
              "\n",
              "      const channel = await google.colab.kernel.comms.open(id);\n",
              "      // Send a message to notify the kernel that we're ready.\n",
              "      channel.send({})\n",
              "\n",
              "      for await (const message of channel.messages) {\n",
              "        // Send a message to notify the kernel that we're ready.\n",
              "        channel.send({})\n",
              "        if (message.buffers) {\n",
              "          for (const buffer of message.buffers) {\n",
              "            buffers.push(buffer);\n",
              "            downloaded += buffer.byteLength;\n",
              "            progress.value = downloaded;\n",
              "          }\n",
              "        }\n",
              "      }\n",
              "      const blob = new Blob(buffers, {type: 'application/binary'});\n",
              "      const a = document.createElement('a');\n",
              "      a.href = window.URL.createObjectURL(blob);\n",
              "      a.download = filename;\n",
              "      div.appendChild(a);\n",
              "      a.click();\n",
              "      div.remove();\n",
              "    }\n",
              "  "
            ]
          },
          "metadata": {}
        },
        {
          "output_type": "display_data",
          "data": {
            "text/plain": [
              "<IPython.core.display.Javascript object>"
            ],
            "application/javascript": [
              "download(\"download_824edfd5-7743-450d-9b4b-f9edd17a86ac\", \"Airflow_BSM_Search_STD.csv\", 265)"
            ]
          },
          "metadata": {}
        },
        {
          "output_type": "display_data",
          "data": {
            "text/plain": [
              "<IPython.core.display.Javascript object>"
            ],
            "application/javascript": [
              "\n",
              "    async function download(id, filename, size) {\n",
              "      if (!google.colab.kernel.accessAllowed) {\n",
              "        return;\n",
              "      }\n",
              "      const div = document.createElement('div');\n",
              "      const label = document.createElement('label');\n",
              "      label.textContent = `Downloading \"${filename}\": `;\n",
              "      div.appendChild(label);\n",
              "      const progress = document.createElement('progress');\n",
              "      progress.max = size;\n",
              "      div.appendChild(progress);\n",
              "      document.body.appendChild(div);\n",
              "\n",
              "      const buffers = [];\n",
              "      let downloaded = 0;\n",
              "\n",
              "      const channel = await google.colab.kernel.comms.open(id);\n",
              "      // Send a message to notify the kernel that we're ready.\n",
              "      channel.send({})\n",
              "\n",
              "      for await (const message of channel.messages) {\n",
              "        // Send a message to notify the kernel that we're ready.\n",
              "        channel.send({})\n",
              "        if (message.buffers) {\n",
              "          for (const buffer of message.buffers) {\n",
              "            buffers.push(buffer);\n",
              "            downloaded += buffer.byteLength;\n",
              "            progress.value = downloaded;\n",
              "          }\n",
              "        }\n",
              "      }\n",
              "      const blob = new Blob(buffers, {type: 'application/binary'});\n",
              "      const a = document.createElement('a');\n",
              "      a.href = window.URL.createObjectURL(blob);\n",
              "      a.download = filename;\n",
              "      div.appendChild(a);\n",
              "      a.click();\n",
              "      div.remove();\n",
              "    }\n",
              "  "
            ]
          },
          "metadata": {}
        },
        {
          "output_type": "display_data",
          "data": {
            "text/plain": [
              "<IPython.core.display.Javascript object>"
            ],
            "application/javascript": [
              "download(\"download_456015a1-c4bc-4d77-9152-f61fec735e00\", \"Airflow_BSM_Search_CV.csv\", 259)"
            ]
          },
          "metadata": {}
        },
        {
          "output_type": "display_data",
          "data": {
            "text/plain": [
              "<IPython.core.display.Javascript object>"
            ],
            "application/javascript": [
              "\n",
              "    async function download(id, filename, size) {\n",
              "      if (!google.colab.kernel.accessAllowed) {\n",
              "        return;\n",
              "      }\n",
              "      const div = document.createElement('div');\n",
              "      const label = document.createElement('label');\n",
              "      label.textContent = `Downloading \"${filename}\": `;\n",
              "      div.appendChild(label);\n",
              "      const progress = document.createElement('progress');\n",
              "      progress.max = size;\n",
              "      div.appendChild(progress);\n",
              "      document.body.appendChild(div);\n",
              "\n",
              "      const buffers = [];\n",
              "      let downloaded = 0;\n",
              "\n",
              "      const channel = await google.colab.kernel.comms.open(id);\n",
              "      // Send a message to notify the kernel that we're ready.\n",
              "      channel.send({})\n",
              "\n",
              "      for await (const message of channel.messages) {\n",
              "        // Send a message to notify the kernel that we're ready.\n",
              "        channel.send({})\n",
              "        if (message.buffers) {\n",
              "          for (const buffer of message.buffers) {\n",
              "            buffers.push(buffer);\n",
              "            downloaded += buffer.byteLength;\n",
              "            progress.value = downloaded;\n",
              "          }\n",
              "        }\n",
              "      }\n",
              "      const blob = new Blob(buffers, {type: 'application/binary'});\n",
              "      const a = document.createElement('a');\n",
              "      a.href = window.URL.createObjectURL(blob);\n",
              "      a.download = filename;\n",
              "      div.appendChild(a);\n",
              "      a.click();\n",
              "      div.remove();\n",
              "    }\n",
              "  "
            ]
          },
          "metadata": {}
        },
        {
          "output_type": "display_data",
          "data": {
            "text/plain": [
              "<IPython.core.display.Javascript object>"
            ],
            "application/javascript": [
              "download(\"download_dbca10e3-1fe8-48ed-9a2e-a8b0bc64a625\", \"Airflow_BSM_Search_Min.csv\", 154)"
            ]
          },
          "metadata": {}
        },
        {
          "output_type": "display_data",
          "data": {
            "text/plain": [
              "<IPython.core.display.Javascript object>"
            ],
            "application/javascript": [
              "\n",
              "    async function download(id, filename, size) {\n",
              "      if (!google.colab.kernel.accessAllowed) {\n",
              "        return;\n",
              "      }\n",
              "      const div = document.createElement('div');\n",
              "      const label = document.createElement('label');\n",
              "      label.textContent = `Downloading \"${filename}\": `;\n",
              "      div.appendChild(label);\n",
              "      const progress = document.createElement('progress');\n",
              "      progress.max = size;\n",
              "      div.appendChild(progress);\n",
              "      document.body.appendChild(div);\n",
              "\n",
              "      const buffers = [];\n",
              "      let downloaded = 0;\n",
              "\n",
              "      const channel = await google.colab.kernel.comms.open(id);\n",
              "      // Send a message to notify the kernel that we're ready.\n",
              "      channel.send({})\n",
              "\n",
              "      for await (const message of channel.messages) {\n",
              "        // Send a message to notify the kernel that we're ready.\n",
              "        channel.send({})\n",
              "        if (message.buffers) {\n",
              "          for (const buffer of message.buffers) {\n",
              "            buffers.push(buffer);\n",
              "            downloaded += buffer.byteLength;\n",
              "            progress.value = downloaded;\n",
              "          }\n",
              "        }\n",
              "      }\n",
              "      const blob = new Blob(buffers, {type: 'application/binary'});\n",
              "      const a = document.createElement('a');\n",
              "      a.href = window.URL.createObjectURL(blob);\n",
              "      a.download = filename;\n",
              "      div.appendChild(a);\n",
              "      a.click();\n",
              "      div.remove();\n",
              "    }\n",
              "  "
            ]
          },
          "metadata": {}
        },
        {
          "output_type": "display_data",
          "data": {
            "text/plain": [
              "<IPython.core.display.Javascript object>"
            ],
            "application/javascript": [
              "download(\"download_7fb58a83-2a12-4d1c-aa69-07714d63abdf\", \"Airflow_BSM_Search_Max.csv\", 160)"
            ]
          },
          "metadata": {}
        },
        {
          "output_type": "display_data",
          "data": {
            "text/plain": [
              "<IPython.core.display.Javascript object>"
            ],
            "application/javascript": [
              "\n",
              "    async function download(id, filename, size) {\n",
              "      if (!google.colab.kernel.accessAllowed) {\n",
              "        return;\n",
              "      }\n",
              "      const div = document.createElement('div');\n",
              "      const label = document.createElement('label');\n",
              "      label.textContent = `Downloading \"${filename}\": `;\n",
              "      div.appendChild(label);\n",
              "      const progress = document.createElement('progress');\n",
              "      progress.max = size;\n",
              "      div.appendChild(progress);\n",
              "      document.body.appendChild(div);\n",
              "\n",
              "      const buffers = [];\n",
              "      let downloaded = 0;\n",
              "\n",
              "      const channel = await google.colab.kernel.comms.open(id);\n",
              "      // Send a message to notify the kernel that we're ready.\n",
              "      channel.send({})\n",
              "\n",
              "      for await (const message of channel.messages) {\n",
              "        // Send a message to notify the kernel that we're ready.\n",
              "        channel.send({})\n",
              "        if (message.buffers) {\n",
              "          for (const buffer of message.buffers) {\n",
              "            buffers.push(buffer);\n",
              "            downloaded += buffer.byteLength;\n",
              "            progress.value = downloaded;\n",
              "          }\n",
              "        }\n",
              "      }\n",
              "      const blob = new Blob(buffers, {type: 'application/binary'});\n",
              "      const a = document.createElement('a');\n",
              "      a.href = window.URL.createObjectURL(blob);\n",
              "      a.download = filename;\n",
              "      div.appendChild(a);\n",
              "      a.click();\n",
              "      div.remove();\n",
              "    }\n",
              "  "
            ]
          },
          "metadata": {}
        },
        {
          "output_type": "display_data",
          "data": {
            "text/plain": [
              "<IPython.core.display.Javascript object>"
            ],
            "application/javascript": [
              "download(\"download_28a5e8cf-824b-4eb1-9c8f-2948f6804596\", \"Airflow_BSM_Search_CPU.csv\", 383)"
            ]
          },
          "metadata": {}
        },
        {
          "output_type": "display_data",
          "data": {
            "text/plain": [
              "<IPython.core.display.Javascript object>"
            ],
            "application/javascript": [
              "\n",
              "    async function download(id, filename, size) {\n",
              "      if (!google.colab.kernel.accessAllowed) {\n",
              "        return;\n",
              "      }\n",
              "      const div = document.createElement('div');\n",
              "      const label = document.createElement('label');\n",
              "      label.textContent = `Downloading \"${filename}\": `;\n",
              "      div.appendChild(label);\n",
              "      const progress = document.createElement('progress');\n",
              "      progress.max = size;\n",
              "      div.appendChild(progress);\n",
              "      document.body.appendChild(div);\n",
              "\n",
              "      const buffers = [];\n",
              "      let downloaded = 0;\n",
              "\n",
              "      const channel = await google.colab.kernel.comms.open(id);\n",
              "      // Send a message to notify the kernel that we're ready.\n",
              "      channel.send({})\n",
              "\n",
              "      for await (const message of channel.messages) {\n",
              "        // Send a message to notify the kernel that we're ready.\n",
              "        channel.send({})\n",
              "        if (message.buffers) {\n",
              "          for (const buffer of message.buffers) {\n",
              "            buffers.push(buffer);\n",
              "            downloaded += buffer.byteLength;\n",
              "            progress.value = downloaded;\n",
              "          }\n",
              "        }\n",
              "      }\n",
              "      const blob = new Blob(buffers, {type: 'application/binary'});\n",
              "      const a = document.createElement('a');\n",
              "      a.href = window.URL.createObjectURL(blob);\n",
              "      a.download = filename;\n",
              "      div.appendChild(a);\n",
              "      a.click();\n",
              "      div.remove();\n",
              "    }\n",
              "  "
            ]
          },
          "metadata": {}
        },
        {
          "output_type": "display_data",
          "data": {
            "text/plain": [
              "<IPython.core.display.Javascript object>"
            ],
            "application/javascript": [
              "download(\"download_9670f687-b81d-4631-a893-3926c44428ee\", \"Airflow_BSM_Search_Memory.csv\", 405)"
            ]
          },
          "metadata": {}
        },
        {
          "output_type": "display_data",
          "data": {
            "text/plain": [
              "<IPython.core.display.Javascript object>"
            ],
            "application/javascript": [
              "\n",
              "    async function download(id, filename, size) {\n",
              "      if (!google.colab.kernel.accessAllowed) {\n",
              "        return;\n",
              "      }\n",
              "      const div = document.createElement('div');\n",
              "      const label = document.createElement('label');\n",
              "      label.textContent = `Downloading \"${filename}\": `;\n",
              "      div.appendChild(label);\n",
              "      const progress = document.createElement('progress');\n",
              "      progress.max = size;\n",
              "      div.appendChild(progress);\n",
              "      document.body.appendChild(div);\n",
              "\n",
              "      const buffers = [];\n",
              "      let downloaded = 0;\n",
              "\n",
              "      const channel = await google.colab.kernel.comms.open(id);\n",
              "      // Send a message to notify the kernel that we're ready.\n",
              "      channel.send({})\n",
              "\n",
              "      for await (const message of channel.messages) {\n",
              "        // Send a message to notify the kernel that we're ready.\n",
              "        channel.send({})\n",
              "        if (message.buffers) {\n",
              "          for (const buffer of message.buffers) {\n",
              "            buffers.push(buffer);\n",
              "            downloaded += buffer.byteLength;\n",
              "            progress.value = downloaded;\n",
              "          }\n",
              "        }\n",
              "      }\n",
              "      const blob = new Blob(buffers, {type: 'application/binary'});\n",
              "      const a = document.createElement('a');\n",
              "      a.href = window.URL.createObjectURL(blob);\n",
              "      a.download = filename;\n",
              "      div.appendChild(a);\n",
              "      a.click();\n",
              "      div.remove();\n",
              "    }\n",
              "  "
            ]
          },
          "metadata": {}
        },
        {
          "output_type": "display_data",
          "data": {
            "text/plain": [
              "<IPython.core.display.Javascript object>"
            ],
            "application/javascript": [
              "download(\"download_6ef778e1-17f3-48bc-841d-c1ee04905c91\", \"Airflow_BSM_Search_Disk.csv\", 210)"
            ]
          },
          "metadata": {}
        }
      ]
    },
    {
      "cell_type": "code",
      "source": [
        "files.download(f'{wms}_{workflow}_Sent_Bytes.csv')\n",
        "files.download(f'{wms}_{workflow}_Received_Bytes.csv')"
      ],
      "metadata": {
        "colab": {
          "base_uri": "https://localhost:8080/",
          "height": 17
        },
        "id": "J2OzmppF0mm8",
        "outputId": "09fffb91-9088-4338-a9e2-beb8b995d2d2"
      },
      "execution_count": 22,
      "outputs": [
        {
          "output_type": "display_data",
          "data": {
            "text/plain": [
              "<IPython.core.display.Javascript object>"
            ],
            "application/javascript": [
              "\n",
              "    async function download(id, filename, size) {\n",
              "      if (!google.colab.kernel.accessAllowed) {\n",
              "        return;\n",
              "      }\n",
              "      const div = document.createElement('div');\n",
              "      const label = document.createElement('label');\n",
              "      label.textContent = `Downloading \"${filename}\": `;\n",
              "      div.appendChild(label);\n",
              "      const progress = document.createElement('progress');\n",
              "      progress.max = size;\n",
              "      div.appendChild(progress);\n",
              "      document.body.appendChild(div);\n",
              "\n",
              "      const buffers = [];\n",
              "      let downloaded = 0;\n",
              "\n",
              "      const channel = await google.colab.kernel.comms.open(id);\n",
              "      // Send a message to notify the kernel that we're ready.\n",
              "      channel.send({})\n",
              "\n",
              "      for await (const message of channel.messages) {\n",
              "        // Send a message to notify the kernel that we're ready.\n",
              "        channel.send({})\n",
              "        if (message.buffers) {\n",
              "          for (const buffer of message.buffers) {\n",
              "            buffers.push(buffer);\n",
              "            downloaded += buffer.byteLength;\n",
              "            progress.value = downloaded;\n",
              "          }\n",
              "        }\n",
              "      }\n",
              "      const blob = new Blob(buffers, {type: 'application/binary'});\n",
              "      const a = document.createElement('a');\n",
              "      a.href = window.URL.createObjectURL(blob);\n",
              "      a.download = filename;\n",
              "      div.appendChild(a);\n",
              "      a.click();\n",
              "      div.remove();\n",
              "    }\n",
              "  "
            ]
          },
          "metadata": {}
        },
        {
          "output_type": "display_data",
          "data": {
            "text/plain": [
              "<IPython.core.display.Javascript object>"
            ],
            "application/javascript": [
              "download(\"download_9b731a21-e14f-40e9-8e95-3d5c6d07107f\", \"Airflow_BSM_Search_Sent_Bytes.csv\", 145)"
            ]
          },
          "metadata": {}
        },
        {
          "output_type": "display_data",
          "data": {
            "text/plain": [
              "<IPython.core.display.Javascript object>"
            ],
            "application/javascript": [
              "\n",
              "    async function download(id, filename, size) {\n",
              "      if (!google.colab.kernel.accessAllowed) {\n",
              "        return;\n",
              "      }\n",
              "      const div = document.createElement('div');\n",
              "      const label = document.createElement('label');\n",
              "      label.textContent = `Downloading \"${filename}\": `;\n",
              "      div.appendChild(label);\n",
              "      const progress = document.createElement('progress');\n",
              "      progress.max = size;\n",
              "      div.appendChild(progress);\n",
              "      document.body.appendChild(div);\n",
              "\n",
              "      const buffers = [];\n",
              "      let downloaded = 0;\n",
              "\n",
              "      const channel = await google.colab.kernel.comms.open(id);\n",
              "      // Send a message to notify the kernel that we're ready.\n",
              "      channel.send({})\n",
              "\n",
              "      for await (const message of channel.messages) {\n",
              "        // Send a message to notify the kernel that we're ready.\n",
              "        channel.send({})\n",
              "        if (message.buffers) {\n",
              "          for (const buffer of message.buffers) {\n",
              "            buffers.push(buffer);\n",
              "            downloaded += buffer.byteLength;\n",
              "            progress.value = downloaded;\n",
              "          }\n",
              "        }\n",
              "      }\n",
              "      const blob = new Blob(buffers, {type: 'application/binary'});\n",
              "      const a = document.createElement('a');\n",
              "      a.href = window.URL.createObjectURL(blob);\n",
              "      a.download = filename;\n",
              "      div.appendChild(a);\n",
              "      a.click();\n",
              "      div.remove();\n",
              "    }\n",
              "  "
            ]
          },
          "metadata": {}
        },
        {
          "output_type": "display_data",
          "data": {
            "text/plain": [
              "<IPython.core.display.Javascript object>"
            ],
            "application/javascript": [
              "download(\"download_fd006659-b5a2-4b45-8345-ac8181466fac\", \"Airflow_BSM_Search_Received_Bytes.csv\", 151)"
            ]
          },
          "metadata": {}
        }
      ]
    },
    {
      "cell_type": "markdown",
      "source": [
        "##4. Line Graph Data"
      ],
      "metadata": {
        "id": "0N9fhlMD-ST6"
      }
    },
    {
      "cell_type": "code",
      "source": [
        "# Extract useful columns\n",
        "usage_data_df = resources_df[[\"Duration (Seconds)\", \"CPU_Usage\", \"Memory_Usage\", \"Disk_Usage\"]]\n",
        "usage_data_df[\"Disk_Usage\"] = usage_data_df[\"Disk_Usage\"] - usage_data_df[\"Disk_Usage\"][0]\n",
        "usage_data_df.to_csv(f'{wms}_{workflow}_Timeseries.csv', index = False)\n",
        "files.download(f'{wms}_{workflow}_Timeseries.csv')"
      ],
      "metadata": {
        "colab": {
          "base_uri": "https://localhost:8080/",
          "height": 148
        },
        "id": "KFGhlF7K-iSt",
        "outputId": "3df65d80-291e-40bd-86bb-f30bbb5eae27"
      },
      "execution_count": 23,
      "outputs": [
        {
          "output_type": "stream",
          "name": "stderr",
          "text": [
            "<ipython-input-23-0a4eb3231075>:3: SettingWithCopyWarning: \n",
            "A value is trying to be set on a copy of a slice from a DataFrame.\n",
            "Try using .loc[row_indexer,col_indexer] = value instead\n",
            "\n",
            "See the caveats in the documentation: https://pandas.pydata.org/pandas-docs/stable/user_guide/indexing.html#returning-a-view-versus-a-copy\n",
            "  usage_data_df[\"Disk_Usage\"] = usage_data_df[\"Disk_Usage\"] - usage_data_df[\"Disk_Usage\"][0]\n"
          ]
        },
        {
          "output_type": "display_data",
          "data": {
            "text/plain": [
              "<IPython.core.display.Javascript object>"
            ],
            "application/javascript": [
              "\n",
              "    async function download(id, filename, size) {\n",
              "      if (!google.colab.kernel.accessAllowed) {\n",
              "        return;\n",
              "      }\n",
              "      const div = document.createElement('div');\n",
              "      const label = document.createElement('label');\n",
              "      label.textContent = `Downloading \"${filename}\": `;\n",
              "      div.appendChild(label);\n",
              "      const progress = document.createElement('progress');\n",
              "      progress.max = size;\n",
              "      div.appendChild(progress);\n",
              "      document.body.appendChild(div);\n",
              "\n",
              "      const buffers = [];\n",
              "      let downloaded = 0;\n",
              "\n",
              "      const channel = await google.colab.kernel.comms.open(id);\n",
              "      // Send a message to notify the kernel that we're ready.\n",
              "      channel.send({})\n",
              "\n",
              "      for await (const message of channel.messages) {\n",
              "        // Send a message to notify the kernel that we're ready.\n",
              "        channel.send({})\n",
              "        if (message.buffers) {\n",
              "          for (const buffer of message.buffers) {\n",
              "            buffers.push(buffer);\n",
              "            downloaded += buffer.byteLength;\n",
              "            progress.value = downloaded;\n",
              "          }\n",
              "        }\n",
              "      }\n",
              "      const blob = new Blob(buffers, {type: 'application/binary'});\n",
              "      const a = document.createElement('a');\n",
              "      a.href = window.URL.createObjectURL(blob);\n",
              "      a.download = filename;\n",
              "      div.appendChild(a);\n",
              "      a.click();\n",
              "      div.remove();\n",
              "    }\n",
              "  "
            ]
          },
          "metadata": {}
        },
        {
          "output_type": "display_data",
          "data": {
            "text/plain": [
              "<IPython.core.display.Javascript object>"
            ],
            "application/javascript": [
              "download(\"download_781ac534-31c3-4c61-84dd-44c189910755\", \"Airflow_BSM_Search_Timeseries.csv\", 6859)"
            ]
          },
          "metadata": {}
        }
      ]
    }
  ]
}