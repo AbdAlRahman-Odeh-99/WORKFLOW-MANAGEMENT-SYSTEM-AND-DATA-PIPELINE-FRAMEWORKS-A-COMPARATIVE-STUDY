{
  "nbformat": 4,
  "nbformat_minor": 0,
  "metadata": {
    "colab": {
      "provenance": []
    },
    "kernelspec": {
      "name": "python3",
      "display_name": "Python 3"
    },
    "language_info": {
      "name": "python"
    }
  },
  "cells": [
    {
      "cell_type": "markdown",
      "source": [
        "#Extracting Resources"
      ],
      "metadata": {
        "id": "NoY4QvTKoIT5"
      }
    },
    {
      "cell_type": "markdown",
      "source": [
        "##1. Import Required Libraries"
      ],
      "metadata": {
        "id": "oXOMIVqHoMEx"
      }
    },
    {
      "cell_type": "code",
      "source": [
        "# Import libraries\n",
        "import pandas as pd\n",
        "from numpy import mean, std, min, max\n",
        "import matplotlib.pyplot as plt\n",
        "from google.colab import files"
      ],
      "metadata": {
        "id": "x2U5Wu4-tutp"
      },
      "execution_count": 1,
      "outputs": []
    },
    {
      "cell_type": "markdown",
      "source": [
        "##2. Read & Pre-Process Data"
      ],
      "metadata": {
        "id": "D4vt9FdOoiZd"
      }
    },
    {
      "cell_type": "code",
      "source": [
        "# Set WMS & workflow name\n",
        "wms = \"Argo\"\n",
        "workflow = \"CMS_Analysis\"\n",
        "# Load the text file into a pandas DataFrame with no header row\n",
        "resources_df = pd.read_csv('/content/Argo-CMS-Analysis-V1-Resources.txt', delimiter=',', header=None)"
      ],
      "metadata": {
        "id": "PxQwEYphtw-0"
      },
      "execution_count": 2,
      "outputs": []
    },
    {
      "cell_type": "code",
      "source": [
        "# Define column names\n",
        "COLUMN_NAMES = [\"Date\", \"Core_Numbers\", \"Core_1_Usage\", \"Core_2_Usage\", \"Core_3_Usage\", \"Core_4_Usage\", \"CPU_Usage\",\n",
        "                \"Total_Memory\", \"Used_Memory\", \"Memory_Usage\",\n",
        "                \"Total_Disk\", \"Used_Disk\", \"Disk_Usage\",\n",
        "                \"Sent_Bytes\", \"Received_Bytes\"]"
      ],
      "metadata": {
        "id": "m_fH39-Tt1fE"
      },
      "execution_count": 3,
      "outputs": []
    },
    {
      "cell_type": "code",
      "source": [
        "# Set column names\n",
        "resources_df.columns = COLUMN_NAMES"
      ],
      "metadata": {
        "id": "cVsBliPDvHuZ"
      },
      "execution_count": 4,
      "outputs": []
    },
    {
      "cell_type": "code",
      "source": [
        "# Insert duration column\n",
        "resources_df.insert(1, \"Duration (Seconds)\", [second for second in range(1, len(resources_df)+1)])"
      ],
      "metadata": {
        "id": "pmiFGnz5vksT"
      },
      "execution_count": 5,
      "outputs": []
    },
    {
      "cell_type": "markdown",
      "source": [
        "##3. Calculate & Save Resources Percentages"
      ],
      "metadata": {
        "id": "P11De5G8xGZ5"
      }
    },
    {
      "cell_type": "code",
      "source": [
        "# Extract useful columns\n",
        "usage_percentages_df = resources_df[[\"Duration (Seconds)\", \"CPU_Usage\", \"Memory_Usage\", \"Disk_Usage\", \"Sent_Bytes\", \"Received_Bytes\"]]"
      ],
      "metadata": {
        "id": "P-xZdwGE0y5W"
      },
      "execution_count": 6,
      "outputs": []
    },
    {
      "cell_type": "code",
      "source": [
        "# Transforming the columns\n",
        "usage_percentages_df[\"Disk_Usage\"] = usage_percentages_df[\"Disk_Usage\"] - usage_percentages_df[\"Disk_Usage\"][0]\n",
        "usage_percentages_df[\"Sent_Bytes\"] = (usage_percentages_df[\"Sent_Bytes\"] - usage_percentages_df[\"Sent_Bytes\"][0]) / (1024**3)\n",
        "usage_percentages_df[\"Received_Bytes\"] = (usage_percentages_df[\"Received_Bytes\"] - usage_percentages_df[\"Received_Bytes\"][0]) / (1024**3)"
      ],
      "metadata": {
        "colab": {
          "base_uri": "https://localhost:8080/"
        },
        "id": "nLmJBIJkBYUT",
        "outputId": "cda5aad1-af8f-44d1-8537-5a5a66847b79"
      },
      "execution_count": 7,
      "outputs": [
        {
          "output_type": "stream",
          "name": "stderr",
          "text": [
            "<ipython-input-7-4bdfc91db41b>:2: SettingWithCopyWarning: \n",
            "A value is trying to be set on a copy of a slice from a DataFrame.\n",
            "Try using .loc[row_indexer,col_indexer] = value instead\n",
            "\n",
            "See the caveats in the documentation: https://pandas.pydata.org/pandas-docs/stable/user_guide/indexing.html#returning-a-view-versus-a-copy\n",
            "  usage_percentages_df[\"Disk_Usage\"] = usage_percentages_df[\"Disk_Usage\"] - usage_percentages_df[\"Disk_Usage\"][0]\n",
            "<ipython-input-7-4bdfc91db41b>:3: SettingWithCopyWarning: \n",
            "A value is trying to be set on a copy of a slice from a DataFrame.\n",
            "Try using .loc[row_indexer,col_indexer] = value instead\n",
            "\n",
            "See the caveats in the documentation: https://pandas.pydata.org/pandas-docs/stable/user_guide/indexing.html#returning-a-view-versus-a-copy\n",
            "  usage_percentages_df[\"Sent_Bytes\"] = (usage_percentages_df[\"Sent_Bytes\"] - usage_percentages_df[\"Sent_Bytes\"][0]) / (1024**3)\n",
            "<ipython-input-7-4bdfc91db41b>:4: SettingWithCopyWarning: \n",
            "A value is trying to be set on a copy of a slice from a DataFrame.\n",
            "Try using .loc[row_indexer,col_indexer] = value instead\n",
            "\n",
            "See the caveats in the documentation: https://pandas.pydata.org/pandas-docs/stable/user_guide/indexing.html#returning-a-view-versus-a-copy\n",
            "  usage_percentages_df[\"Received_Bytes\"] = (usage_percentages_df[\"Received_Bytes\"] - usage_percentages_df[\"Received_Bytes\"][0]) / (1024**3)\n"
          ]
        }
      ]
    },
    {
      "cell_type": "code",
      "source": [
        "# Define a function to calculate the average of the usages\n",
        "def calculate_average(component, base_usage, target_usage, disk_base_usage, disk_target_usage):\n",
        "  if component == \"BASE\":\n",
        "    AVERAGE_CPU_USAGE = mean(target_usage[\"CPU_Usage\"])\n",
        "    AVERAGE_MEMORY_USAGE = mean(target_usage[\"Memory_Usage\"])\n",
        "    AVERAGE_DISK_USAGE = mean(disk_target_usage[\"Disk_Usage\"])\n",
        "  elif component == \"SERVER\":\n",
        "    AVERAGE_CPU_USAGE =  mean(target_usage[\"CPU_Usage\"]) - mean(base_usage[\"CPU_Usage\"])\n",
        "    AVERAGE_MEMORY_USAGE = mean(target_usage[\"Memory_Usage\"]) - mean(base_usage[\"Memory_Usage\"])\n",
        "    AVERAGE_DISK_USAGE = mean(disk_target_usage[\"Disk_Usage\"]) - mean(disk_base_usage[\"Disk_Usage\"])\n",
        "  elif component == \"WORKFLOW\":\n",
        "    AVERAGE_CPU_USAGE =  mean(target_usage[\"CPU_Usage\"]) - mean(base_usage[\"CPU_Usage\"][:300])\n",
        "    AVERAGE_MEMORY_USAGE = mean(target_usage[\"Memory_Usage\"]) - mean(base_usage[\"Memory_Usage\"][:300])\n",
        "    AVERAGE_DISK_USAGE = mean(disk_target_usage[\"Disk_Usage\"]) - mean(disk_base_usage[\"Disk_Usage\"][:300])\n",
        "  return AVERAGE_CPU_USAGE, AVERAGE_MEMORY_USAGE, AVERAGE_DISK_USAGE"
      ],
      "metadata": {
        "id": "t_pWW9F34aIu"
      },
      "execution_count": 8,
      "outputs": []
    },
    {
      "cell_type": "code",
      "source": [
        "# Define a function to calculate the STD of the usages\n",
        "def calculate_std(component, base_usage, target_usage, disk_base_usage, disk_target_usage):\n",
        "  if component == \"BASE\":\n",
        "    STD_CPU_USAGE = std(target_usage[\"CPU_Usage\"])\n",
        "    STD_MEMORY_USAGE = std(target_usage[\"Memory_Usage\"])\n",
        "    STD_DISK_USAGE = std(disk_target_usage[\"Disk_Usage\"])\n",
        "  elif component == \"SERVER\":\n",
        "    STD_CPU_USAGE = std(target_usage[\"CPU_Usage\"] - mean(base_usage[\"CPU_Usage\"]))\n",
        "    STD_MEMORY_USAGE = std(target_usage[\"Memory_Usage\"] - mean(base_usage[\"Memory_Usage\"]))\n",
        "    STD_DISK_USAGE = std(disk_target_usage[\"Disk_Usage\"] - mean(disk_base_usage[\"Disk_Usage\"]))\n",
        "  elif component == \"WORKFLOW\":\n",
        "    STD_CPU_USAGE = std(target_usage[\"CPU_Usage\"] - mean(base_usage[\"CPU_Usage\"][:300]))\n",
        "    STD_MEMORY_USAGE = std(target_usage[\"Memory_Usage\"] - mean(base_usage[\"Memory_Usage\"][:300]))\n",
        "    STD_DISK_USAGE = std(disk_target_usage[\"Disk_Usage\"] - mean(disk_base_usage[\"Disk_Usage\"][:300]))\n",
        "  return STD_CPU_USAGE, STD_MEMORY_USAGE, STD_DISK_USAGE"
      ],
      "metadata": {
        "id": "-Jo6ITDVHeVz"
      },
      "execution_count": 9,
      "outputs": []
    },
    {
      "cell_type": "code",
      "source": [
        "# Define a function to calculate the CV of the usages\n",
        "def calculate_cv(std, mean):\n",
        "  if mean == 0:\n",
        "    return 0\n",
        "  else:\n",
        "    return (std/mean)*100"
      ],
      "metadata": {
        "id": "QAJhU93dITsf"
      },
      "execution_count": 10,
      "outputs": []
    },
    {
      "cell_type": "code",
      "source": [
        "# Define a function to return the minimum value for usage\n",
        "def return_min(target_usage, disk_target_usage):\n",
        "  return min(target_usage[\"CPU_Usage\"]), min(target_usage[\"Memory_Usage\"]), min(disk_target_usage[\"Disk_Usage\"])"
      ],
      "metadata": {
        "id": "E9YGtXDJJ2eD"
      },
      "execution_count": 11,
      "outputs": []
    },
    {
      "cell_type": "code",
      "source": [
        "# Define a function to return the maximum value for usage\n",
        "def return_max(target_usage, disk_target_usage):\n",
        "  return max(target_usage[\"CPU_Usage\"]), max(target_usage[\"Memory_Usage\"]), max(disk_target_usage[\"Disk_Usage\"])"
      ],
      "metadata": {
        "id": "08MmxDSSKYOP"
      },
      "execution_count": 12,
      "outputs": []
    },
    {
      "cell_type": "code",
      "source": [
        "# Define a function to calculate the usages\n",
        "def caluculate_usage(component, base_usage, target_usage, disk_base_usage, disk_target_usage):\n",
        "  results_dictionary = {}\n",
        "\n",
        "  AVERAGE_CPU_USAGE, AVERAGE_MEMORY_USAGE, AVERAGE_DISK_USAGE = calculate_average(component, base_usage, target_usage, disk_base_usage, disk_target_usage)\n",
        "  STD_CPU_USAGE, STD_MEMORY_USAGE, STD_DISK_USAGE = calculate_std(component, base_usage, target_usage, disk_base_usage, disk_target_usage)\n",
        "  CV_CPU_USAGE, CV_MEMORY_USAGE, CV_DISK_USAGE = calculate_cv(STD_CPU_USAGE, AVERAGE_CPU_USAGE), calculate_cv(STD_MEMORY_USAGE, AVERAGE_MEMORY_USAGE), calculate_cv(STD_DISK_USAGE, AVERAGE_DISK_USAGE)\n",
        "  \n",
        "  MIN_CPU_USAGE, MIN_MEMORY_USAGE, MIN_DISK_USAGE =  return_min(target_usage, disk_target_usage)\n",
        "  MAX_CPU_USAGE, MAX_MEMORY_USAGE, MAX_DISK_USAGE =  return_max(target_usage, disk_target_usage)\n",
        "\n",
        "  results_dictionary[\"AVERAGE_CPU_USAGE\"], results_dictionary[\"AVERAGE_MEMORY_USAGE\"], results_dictionary[\"AVERAGE_DISK_USAGE\"] = AVERAGE_CPU_USAGE, AVERAGE_MEMORY_USAGE, AVERAGE_DISK_USAGE\n",
        "  results_dictionary[\"STD_CPU_USAGE\"], results_dictionary[\"STD_MEMORY_USAGE\"], results_dictionary[\"STD_DISK_USAGE\"] = STD_CPU_USAGE, STD_MEMORY_USAGE, STD_DISK_USAGE\n",
        "  results_dictionary[\"CV_CPU_USAGE\"], results_dictionary[\"CV_MEMORY_USAGE\"], results_dictionary[\"CV_DISK_USAGE\"] = CV_CPU_USAGE, CV_MEMORY_USAGE, CV_DISK_USAGE\n",
        "  results_dictionary[\"MIN_CPU_USAGE\"], results_dictionary[\"MIN_MEMORY_USAGE\"], results_dictionary[\"MIN_DISK_USAGE\"] = MIN_CPU_USAGE, MIN_MEMORY_USAGE, MIN_DISK_USAGE\n",
        "  results_dictionary[\"MAX_CPU_USAGE\"], results_dictionary[\"MAX_MEMORY_USAGE\"], results_dictionary[\"MAX_DISK_USAGE\"] = MAX_CPU_USAGE, MAX_MEMORY_USAGE, MAX_DISK_USAGE\n",
        "  results_dictionary[\"SENT_BYTES\"] = disk_target_usage[\"Sent_Bytes\"].values[-1]\n",
        "  results_dictionary[\"RECEIVED_BYTES\"] = disk_target_usage[\"Received_Bytes\"].values[-1]\n",
        "\n",
        "  return results_dictionary"
      ],
      "metadata": {
        "id": "HhT53Fxz2-9F"
      },
      "execution_count": 13,
      "outputs": []
    },
    {
      "cell_type": "code",
      "source": [
        "# Save the calculation in dictionaries\n",
        "RESOURCES_USAGE = {}\n",
        "BASE_USAGE = caluculate_usage(\"BASE\", None, usage_percentages_df[-300:], None, usage_percentages_df[:300])\n",
        "SERVER_USAGE = caluculate_usage(\"SERVER\", usage_percentages_df[-300:], usage_percentages_df[-600:-300], usage_percentages_df[:300], usage_percentages_df[300:600])\n",
        "WORKFLOW_USAGE = caluculate_usage(\"WORKFLOW\", usage_percentages_df[-300:], usage_percentages_df[600:-600], usage_percentages_df[:300], usage_percentages_df[600:-600])"
      ],
      "metadata": {
        "id": "vTBc7yvb2OwW"
      },
      "execution_count": 14,
      "outputs": []
    },
    {
      "cell_type": "code",
      "source": [
        "TOTAL_USAGE = {\n",
        "               \"AVERAGE_CPU_USAGE\":0, \"AVERAGE_MEMORY_USAGE\":0, \"AVERAGE_DISK_USAGE\":0,\n",
        "               \"STD_CPU_USAGE\":0, \"STD_MEMORY_USAGE\":0, \"STD_DISK_USAGE\":0,\n",
        "               \"CV_CPU_USAGE\":0, \"CV_MEMORY_USAGE\":0, \"CV_DISK_USAGE\":0,\n",
        "               \"MIN_CPU_USAGE\":min(usage_percentages_df[\"CPU_Usage\"]), \"MIN_MEMORY_USAGE\":min(usage_percentages_df[\"Memory_Usage\"]), \"MIN_DISK_USAGE\":min(usage_percentages_df[\"Disk_Usage\"]),\n",
        "               \"MAX_CPU_USAGE\":max(usage_percentages_df[\"CPU_Usage\"]), \"MAX_MEMORY_USAGE\":max(usage_percentages_df[\"Memory_Usage\"]), \"MAX_DISK_USAGE\":max(usage_percentages_df[\"Disk_Usage\"]),\n",
        "               \"SENT_BYTES\": 0 , \"RECEIVED_BYTES\": 0\n",
        "}"
      ],
      "metadata": {
        "id": "da2WkkJ3uiQ3"
      },
      "execution_count": 15,
      "outputs": []
    },
    {
      "cell_type": "code",
      "source": [
        "# Save the base, server & workflow usages to the resources usage dictionary\n",
        "RESOURCES_USAGE = {\"BASE_USAGE\":BASE_USAGE, \"SERVER_USAGE\":SERVER_USAGE, \"WORKFLOW_USAGE\":WORKFLOW_USAGE}"
      ],
      "metadata": {
        "id": "XzjhPHPJH2OP"
      },
      "execution_count": 16,
      "outputs": []
    },
    {
      "cell_type": "code",
      "source": [
        "# Calculate the total usage\n",
        "for component in RESOURCES_USAGE.keys():\n",
        "  for RESOURCES_TYPE in RESOURCES_USAGE[component].keys():\n",
        "    if \"MIN\" in RESOURCES_TYPE or \"MAX\" in RESOURCES_TYPE:\n",
        "      continue\n",
        "    else:\n",
        "      TOTAL_USAGE[RESOURCES_TYPE] += RESOURCES_USAGE[component][RESOURCES_TYPE]"
      ],
      "metadata": {
        "id": "n6siV0xMDNb-"
      },
      "execution_count": 17,
      "outputs": []
    },
    {
      "cell_type": "code",
      "source": [
        "# Save the total usage to the resources usage dictionary\n",
        "RESOURCES_USAGE = {\"TOTAL_USAGE\":TOTAL_USAGE, \"BASE_USAGE\":BASE_USAGE, \"SERVER_USAGE\":SERVER_USAGE, \"WORKFLOW_USAGE\":WORKFLOW_USAGE}"
      ],
      "metadata": {
        "id": "MEyxPSDKE-3G"
      },
      "execution_count": 18,
      "outputs": []
    },
    {
      "cell_type": "code",
      "source": [
        "# Create DataFrames of the results\n",
        "RESULTS_DF = pd.DataFrame(RESOURCES_USAGE)\n",
        "T_RESULTS_DF = RESULTS_DF.T\n",
        "AVERAGE_DF = T_RESULTS_DF.iloc[:, [i for i in range (0,3)]]\n",
        "STD_DF = T_RESULTS_DF.iloc[:, [i for i in range (3,6)]]\n",
        "CV_DF = T_RESULTS_DF.iloc[:, [i for i in range (6,9)]]\n",
        "MIN_DF = T_RESULTS_DF.iloc[:, [i for i in range (9,12)]]\n",
        "MAX_DF = T_RESULTS_DF.iloc[:, [i for i in range (12,15)]]\n",
        "CPU_DF = T_RESULTS_DF.iloc[:, [i for i in range (0,T_RESULTS_DF.shape[1]-2,3)]]\n",
        "MEMORY_DF = T_RESULTS_DF.iloc[:, [i for i in range (1,T_RESULTS_DF.shape[1]-2,3)]]\n",
        "DISK_DF = T_RESULTS_DF.iloc[:, [i for i in range (2,T_RESULTS_DF.shape[1]-2,3)]]\n",
        "SENT_BYTES_DF = T_RESULTS_DF.iloc[:, [-2]]\n",
        "RECEIVED_BYTES_DF = T_RESULTS_DF.iloc[:, [-1]]"
      ],
      "metadata": {
        "id": "2jcy8dp_sJ5D"
      },
      "execution_count": 19,
      "outputs": []
    },
    {
      "cell_type": "code",
      "source": [
        "# Save the results\n",
        "RESULTS_DF.to_csv(f'{wms}_{workflow}_Results.csv')\n",
        "T_RESULTS_DF.to_csv(f'{wms}_{workflow}_Transposed_Results.csv')\n",
        "AVERAGE_DF.to_csv(f'{wms}_{workflow}_Average.csv')\n",
        "STD_DF.to_csv(f'{wms}_{workflow}_STD.csv')\n",
        "CV_DF.to_csv(f'{wms}_{workflow}_CV.csv')\n",
        "MIN_DF.to_csv(f'{wms}_{workflow}_Min.csv')\n",
        "MAX_DF.to_csv(f'{wms}_{workflow}_Max.csv')\n",
        "CPU_DF.to_csv(f'{wms}_{workflow}_CPU.csv')\n",
        "MEMORY_DF.to_csv(f'{wms}_{workflow}_Memory.csv')\n",
        "DISK_DF.to_csv(f'{wms}_{workflow}_Disk.csv')\n",
        "SENT_BYTES_DF.to_csv(f'{wms}_{workflow}_Sent_Bytes.csv')\n",
        "RECEIVED_BYTES_DF.to_csv(f'{wms}_{workflow}_Received_Bytes.csv')"
      ],
      "metadata": {
        "id": "I63P2T5iueQ8"
      },
      "execution_count": 20,
      "outputs": []
    },
    {
      "cell_type": "code",
      "source": [
        "# Download CSV files to your local device\n",
        "files.download(f'{wms}_{workflow}_Results.csv')\n",
        "files.download(f'{wms}_{workflow}_Transposed_Results.csv')\n",
        "files.download(f'{wms}_{workflow}_Average.csv')\n",
        "files.download(f'{wms}_{workflow}_STD.csv')\n",
        "files.download(f'{wms}_{workflow}_CV.csv')\n",
        "files.download(f'{wms}_{workflow}_Min.csv')\n",
        "files.download(f'{wms}_{workflow}_Max.csv')\n",
        "files.download(f'{wms}_{workflow}_CPU.csv')\n",
        "files.download(f'{wms}_{workflow}_Memory.csv')\n",
        "files.download(f'{wms}_{workflow}_Disk.csv')"
      ],
      "metadata": {
        "colab": {
          "base_uri": "https://localhost:8080/",
          "height": 17
        },
        "id": "EOUjUQLMzj-1",
        "outputId": "e9cab92a-e588-4491-c705-167b47350e3f"
      },
      "execution_count": 21,
      "outputs": [
        {
          "output_type": "display_data",
          "data": {
            "text/plain": [
              "<IPython.core.display.Javascript object>"
            ],
            "application/javascript": [
              "\n",
              "    async function download(id, filename, size) {\n",
              "      if (!google.colab.kernel.accessAllowed) {\n",
              "        return;\n",
              "      }\n",
              "      const div = document.createElement('div');\n",
              "      const label = document.createElement('label');\n",
              "      label.textContent = `Downloading \"${filename}\": `;\n",
              "      div.appendChild(label);\n",
              "      const progress = document.createElement('progress');\n",
              "      progress.max = size;\n",
              "      div.appendChild(progress);\n",
              "      document.body.appendChild(div);\n",
              "\n",
              "      const buffers = [];\n",
              "      let downloaded = 0;\n",
              "\n",
              "      const channel = await google.colab.kernel.comms.open(id);\n",
              "      // Send a message to notify the kernel that we're ready.\n",
              "      channel.send({})\n",
              "\n",
              "      for await (const message of channel.messages) {\n",
              "        // Send a message to notify the kernel that we're ready.\n",
              "        channel.send({})\n",
              "        if (message.buffers) {\n",
              "          for (const buffer of message.buffers) {\n",
              "            buffers.push(buffer);\n",
              "            downloaded += buffer.byteLength;\n",
              "            progress.value = downloaded;\n",
              "          }\n",
              "        }\n",
              "      }\n",
              "      const blob = new Blob(buffers, {type: 'application/binary'});\n",
              "      const a = document.createElement('a');\n",
              "      a.href = window.URL.createObjectURL(blob);\n",
              "      a.download = filename;\n",
              "      div.appendChild(a);\n",
              "      a.click();\n",
              "      div.remove();\n",
              "    }\n",
              "  "
            ]
          },
          "metadata": {}
        },
        {
          "output_type": "display_data",
          "data": {
            "text/plain": [
              "<IPython.core.display.Javascript object>"
            ],
            "application/javascript": [
              "download(\"download_d0c583ae-4e28-416e-ad95-35cbab3b1bc8\", \"Argo_CMS_Analysis_Results.csv\", 1178)"
            ]
          },
          "metadata": {}
        },
        {
          "output_type": "display_data",
          "data": {
            "text/plain": [
              "<IPython.core.display.Javascript object>"
            ],
            "application/javascript": [
              "\n",
              "    async function download(id, filename, size) {\n",
              "      if (!google.colab.kernel.accessAllowed) {\n",
              "        return;\n",
              "      }\n",
              "      const div = document.createElement('div');\n",
              "      const label = document.createElement('label');\n",
              "      label.textContent = `Downloading \"${filename}\": `;\n",
              "      div.appendChild(label);\n",
              "      const progress = document.createElement('progress');\n",
              "      progress.max = size;\n",
              "      div.appendChild(progress);\n",
              "      document.body.appendChild(div);\n",
              "\n",
              "      const buffers = [];\n",
              "      let downloaded = 0;\n",
              "\n",
              "      const channel = await google.colab.kernel.comms.open(id);\n",
              "      // Send a message to notify the kernel that we're ready.\n",
              "      channel.send({})\n",
              "\n",
              "      for await (const message of channel.messages) {\n",
              "        // Send a message to notify the kernel that we're ready.\n",
              "        channel.send({})\n",
              "        if (message.buffers) {\n",
              "          for (const buffer of message.buffers) {\n",
              "            buffers.push(buffer);\n",
              "            downloaded += buffer.byteLength;\n",
              "            progress.value = downloaded;\n",
              "          }\n",
              "        }\n",
              "      }\n",
              "      const blob = new Blob(buffers, {type: 'application/binary'});\n",
              "      const a = document.createElement('a');\n",
              "      a.href = window.URL.createObjectURL(blob);\n",
              "      a.download = filename;\n",
              "      div.appendChild(a);\n",
              "      a.click();\n",
              "      div.remove();\n",
              "    }\n",
              "  "
            ]
          },
          "metadata": {}
        },
        {
          "output_type": "display_data",
          "data": {
            "text/plain": [
              "<IPython.core.display.Javascript object>"
            ],
            "application/javascript": [
              "download(\"download_e4d577ef-5490-4121-98be-8cce32c6fb24\", \"Argo_CMS_Analysis_Transposed_Results.csv\", 1178)"
            ]
          },
          "metadata": {}
        },
        {
          "output_type": "display_data",
          "data": {
            "text/plain": [
              "<IPython.core.display.Javascript object>"
            ],
            "application/javascript": [
              "\n",
              "    async function download(id, filename, size) {\n",
              "      if (!google.colab.kernel.accessAllowed) {\n",
              "        return;\n",
              "      }\n",
              "      const div = document.createElement('div');\n",
              "      const label = document.createElement('label');\n",
              "      label.textContent = `Downloading \"${filename}\": `;\n",
              "      div.appendChild(label);\n",
              "      const progress = document.createElement('progress');\n",
              "      progress.max = size;\n",
              "      div.appendChild(progress);\n",
              "      document.body.appendChild(div);\n",
              "\n",
              "      const buffers = [];\n",
              "      let downloaded = 0;\n",
              "\n",
              "      const channel = await google.colab.kernel.comms.open(id);\n",
              "      // Send a message to notify the kernel that we're ready.\n",
              "      channel.send({})\n",
              "\n",
              "      for await (const message of channel.messages) {\n",
              "        // Send a message to notify the kernel that we're ready.\n",
              "        channel.send({})\n",
              "        if (message.buffers) {\n",
              "          for (const buffer of message.buffers) {\n",
              "            buffers.push(buffer);\n",
              "            downloaded += buffer.byteLength;\n",
              "            progress.value = downloaded;\n",
              "          }\n",
              "        }\n",
              "      }\n",
              "      const blob = new Blob(buffers, {type: 'application/binary'});\n",
              "      const a = document.createElement('a');\n",
              "      a.href = window.URL.createObjectURL(blob);\n",
              "      a.download = filename;\n",
              "      div.appendChild(a);\n",
              "      a.click();\n",
              "      div.remove();\n",
              "    }\n",
              "  "
            ]
          },
          "metadata": {}
        },
        {
          "output_type": "display_data",
          "data": {
            "text/plain": [
              "<IPython.core.display.Javascript object>"
            ],
            "application/javascript": [
              "download(\"download_11862a01-ee8a-49b3-99b4-17537c8b23ba\", \"Argo_CMS_Analysis_Average.csv\", 282)"
            ]
          },
          "metadata": {}
        },
        {
          "output_type": "display_data",
          "data": {
            "text/plain": [
              "<IPython.core.display.Javascript object>"
            ],
            "application/javascript": [
              "\n",
              "    async function download(id, filename, size) {\n",
              "      if (!google.colab.kernel.accessAllowed) {\n",
              "        return;\n",
              "      }\n",
              "      const div = document.createElement('div');\n",
              "      const label = document.createElement('label');\n",
              "      label.textContent = `Downloading \"${filename}\": `;\n",
              "      div.appendChild(label);\n",
              "      const progress = document.createElement('progress');\n",
              "      progress.max = size;\n",
              "      div.appendChild(progress);\n",
              "      document.body.appendChild(div);\n",
              "\n",
              "      const buffers = [];\n",
              "      let downloaded = 0;\n",
              "\n",
              "      const channel = await google.colab.kernel.comms.open(id);\n",
              "      // Send a message to notify the kernel that we're ready.\n",
              "      channel.send({})\n",
              "\n",
              "      for await (const message of channel.messages) {\n",
              "        // Send a message to notify the kernel that we're ready.\n",
              "        channel.send({})\n",
              "        if (message.buffers) {\n",
              "          for (const buffer of message.buffers) {\n",
              "            buffers.push(buffer);\n",
              "            downloaded += buffer.byteLength;\n",
              "            progress.value = downloaded;\n",
              "          }\n",
              "        }\n",
              "      }\n",
              "      const blob = new Blob(buffers, {type: 'application/binary'});\n",
              "      const a = document.createElement('a');\n",
              "      a.href = window.URL.createObjectURL(blob);\n",
              "      a.download = filename;\n",
              "      div.appendChild(a);\n",
              "      a.click();\n",
              "      div.remove();\n",
              "    }\n",
              "  "
            ]
          },
          "metadata": {}
        },
        {
          "output_type": "display_data",
          "data": {
            "text/plain": [
              "<IPython.core.display.Javascript object>"
            ],
            "application/javascript": [
              "download(\"download_2421bdb8-b807-47b1-b374-53ed81869836\", \"Argo_CMS_Analysis_STD.csv\", 290)"
            ]
          },
          "metadata": {}
        },
        {
          "output_type": "display_data",
          "data": {
            "text/plain": [
              "<IPython.core.display.Javascript object>"
            ],
            "application/javascript": [
              "\n",
              "    async function download(id, filename, size) {\n",
              "      if (!google.colab.kernel.accessAllowed) {\n",
              "        return;\n",
              "      }\n",
              "      const div = document.createElement('div');\n",
              "      const label = document.createElement('label');\n",
              "      label.textContent = `Downloading \"${filename}\": `;\n",
              "      div.appendChild(label);\n",
              "      const progress = document.createElement('progress');\n",
              "      progress.max = size;\n",
              "      div.appendChild(progress);\n",
              "      document.body.appendChild(div);\n",
              "\n",
              "      const buffers = [];\n",
              "      let downloaded = 0;\n",
              "\n",
              "      const channel = await google.colab.kernel.comms.open(id);\n",
              "      // Send a message to notify the kernel that we're ready.\n",
              "      channel.send({})\n",
              "\n",
              "      for await (const message of channel.messages) {\n",
              "        // Send a message to notify the kernel that we're ready.\n",
              "        channel.send({})\n",
              "        if (message.buffers) {\n",
              "          for (const buffer of message.buffers) {\n",
              "            buffers.push(buffer);\n",
              "            downloaded += buffer.byteLength;\n",
              "            progress.value = downloaded;\n",
              "          }\n",
              "        }\n",
              "      }\n",
              "      const blob = new Blob(buffers, {type: 'application/binary'});\n",
              "      const a = document.createElement('a');\n",
              "      a.href = window.URL.createObjectURL(blob);\n",
              "      a.download = filename;\n",
              "      div.appendChild(a);\n",
              "      a.click();\n",
              "      div.remove();\n",
              "    }\n",
              "  "
            ]
          },
          "metadata": {}
        },
        {
          "output_type": "display_data",
          "data": {
            "text/plain": [
              "<IPython.core.display.Javascript object>"
            ],
            "application/javascript": [
              "download(\"download_49289e35-9350-4e0e-8614-b1007c612f06\", \"Argo_CMS_Analysis_CV.csv\", 284)"
            ]
          },
          "metadata": {}
        },
        {
          "output_type": "display_data",
          "data": {
            "text/plain": [
              "<IPython.core.display.Javascript object>"
            ],
            "application/javascript": [
              "\n",
              "    async function download(id, filename, size) {\n",
              "      if (!google.colab.kernel.accessAllowed) {\n",
              "        return;\n",
              "      }\n",
              "      const div = document.createElement('div');\n",
              "      const label = document.createElement('label');\n",
              "      label.textContent = `Downloading \"${filename}\": `;\n",
              "      div.appendChild(label);\n",
              "      const progress = document.createElement('progress');\n",
              "      progress.max = size;\n",
              "      div.appendChild(progress);\n",
              "      document.body.appendChild(div);\n",
              "\n",
              "      const buffers = [];\n",
              "      let downloaded = 0;\n",
              "\n",
              "      const channel = await google.colab.kernel.comms.open(id);\n",
              "      // Send a message to notify the kernel that we're ready.\n",
              "      channel.send({})\n",
              "\n",
              "      for await (const message of channel.messages) {\n",
              "        // Send a message to notify the kernel that we're ready.\n",
              "        channel.send({})\n",
              "        if (message.buffers) {\n",
              "          for (const buffer of message.buffers) {\n",
              "            buffers.push(buffer);\n",
              "            downloaded += buffer.byteLength;\n",
              "            progress.value = downloaded;\n",
              "          }\n",
              "        }\n",
              "      }\n",
              "      const blob = new Blob(buffers, {type: 'application/binary'});\n",
              "      const a = document.createElement('a');\n",
              "      a.href = window.URL.createObjectURL(blob);\n",
              "      a.download = filename;\n",
              "      div.appendChild(a);\n",
              "      a.click();\n",
              "      div.remove();\n",
              "    }\n",
              "  "
            ]
          },
          "metadata": {}
        },
        {
          "output_type": "display_data",
          "data": {
            "text/plain": [
              "<IPython.core.display.Javascript object>"
            ],
            "application/javascript": [
              "download(\"download_28efefa1-0144-4a5b-b41f-8092347fdc57\", \"Argo_CMS_Analysis_Min.csv\", 155)"
            ]
          },
          "metadata": {}
        },
        {
          "output_type": "display_data",
          "data": {
            "text/plain": [
              "<IPython.core.display.Javascript object>"
            ],
            "application/javascript": [
              "\n",
              "    async function download(id, filename, size) {\n",
              "      if (!google.colab.kernel.accessAllowed) {\n",
              "        return;\n",
              "      }\n",
              "      const div = document.createElement('div');\n",
              "      const label = document.createElement('label');\n",
              "      label.textContent = `Downloading \"${filename}\": `;\n",
              "      div.appendChild(label);\n",
              "      const progress = document.createElement('progress');\n",
              "      progress.max = size;\n",
              "      div.appendChild(progress);\n",
              "      document.body.appendChild(div);\n",
              "\n",
              "      const buffers = [];\n",
              "      let downloaded = 0;\n",
              "\n",
              "      const channel = await google.colab.kernel.comms.open(id);\n",
              "      // Send a message to notify the kernel that we're ready.\n",
              "      channel.send({})\n",
              "\n",
              "      for await (const message of channel.messages) {\n",
              "        // Send a message to notify the kernel that we're ready.\n",
              "        channel.send({})\n",
              "        if (message.buffers) {\n",
              "          for (const buffer of message.buffers) {\n",
              "            buffers.push(buffer);\n",
              "            downloaded += buffer.byteLength;\n",
              "            progress.value = downloaded;\n",
              "          }\n",
              "        }\n",
              "      }\n",
              "      const blob = new Blob(buffers, {type: 'application/binary'});\n",
              "      const a = document.createElement('a');\n",
              "      a.href = window.URL.createObjectURL(blob);\n",
              "      a.download = filename;\n",
              "      div.appendChild(a);\n",
              "      a.click();\n",
              "      div.remove();\n",
              "    }\n",
              "  "
            ]
          },
          "metadata": {}
        },
        {
          "output_type": "display_data",
          "data": {
            "text/plain": [
              "<IPython.core.display.Javascript object>"
            ],
            "application/javascript": [
              "download(\"download_f5c95189-12b3-441e-9d12-83aefcd6fd55\", \"Argo_CMS_Analysis_Max.csv\", 187)"
            ]
          },
          "metadata": {}
        },
        {
          "output_type": "display_data",
          "data": {
            "text/plain": [
              "<IPython.core.display.Javascript object>"
            ],
            "application/javascript": [
              "\n",
              "    async function download(id, filename, size) {\n",
              "      if (!google.colab.kernel.accessAllowed) {\n",
              "        return;\n",
              "      }\n",
              "      const div = document.createElement('div');\n",
              "      const label = document.createElement('label');\n",
              "      label.textContent = `Downloading \"${filename}\": `;\n",
              "      div.appendChild(label);\n",
              "      const progress = document.createElement('progress');\n",
              "      progress.max = size;\n",
              "      div.appendChild(progress);\n",
              "      document.body.appendChild(div);\n",
              "\n",
              "      const buffers = [];\n",
              "      let downloaded = 0;\n",
              "\n",
              "      const channel = await google.colab.kernel.comms.open(id);\n",
              "      // Send a message to notify the kernel that we're ready.\n",
              "      channel.send({})\n",
              "\n",
              "      for await (const message of channel.messages) {\n",
              "        // Send a message to notify the kernel that we're ready.\n",
              "        channel.send({})\n",
              "        if (message.buffers) {\n",
              "          for (const buffer of message.buffers) {\n",
              "            buffers.push(buffer);\n",
              "            downloaded += buffer.byteLength;\n",
              "            progress.value = downloaded;\n",
              "          }\n",
              "        }\n",
              "      }\n",
              "      const blob = new Blob(buffers, {type: 'application/binary'});\n",
              "      const a = document.createElement('a');\n",
              "      a.href = window.URL.createObjectURL(blob);\n",
              "      a.download = filename;\n",
              "      div.appendChild(a);\n",
              "      a.click();\n",
              "      div.remove();\n",
              "    }\n",
              "  "
            ]
          },
          "metadata": {}
        },
        {
          "output_type": "display_data",
          "data": {
            "text/plain": [
              "<IPython.core.display.Javascript object>"
            ],
            "application/javascript": [
              "download(\"download_2f18aa92-0da1-4d27-ad8c-7c8af171d417\", \"Argo_CMS_Analysis_CPU.csv\", 379)"
            ]
          },
          "metadata": {}
        },
        {
          "output_type": "display_data",
          "data": {
            "text/plain": [
              "<IPython.core.display.Javascript object>"
            ],
            "application/javascript": [
              "\n",
              "    async function download(id, filename, size) {\n",
              "      if (!google.colab.kernel.accessAllowed) {\n",
              "        return;\n",
              "      }\n",
              "      const div = document.createElement('div');\n",
              "      const label = document.createElement('label');\n",
              "      label.textContent = `Downloading \"${filename}\": `;\n",
              "      div.appendChild(label);\n",
              "      const progress = document.createElement('progress');\n",
              "      progress.max = size;\n",
              "      div.appendChild(progress);\n",
              "      document.body.appendChild(div);\n",
              "\n",
              "      const buffers = [];\n",
              "      let downloaded = 0;\n",
              "\n",
              "      const channel = await google.colab.kernel.comms.open(id);\n",
              "      // Send a message to notify the kernel that we're ready.\n",
              "      channel.send({})\n",
              "\n",
              "      for await (const message of channel.messages) {\n",
              "        // Send a message to notify the kernel that we're ready.\n",
              "        channel.send({})\n",
              "        if (message.buffers) {\n",
              "          for (const buffer of message.buffers) {\n",
              "            buffers.push(buffer);\n",
              "            downloaded += buffer.byteLength;\n",
              "            progress.value = downloaded;\n",
              "          }\n",
              "        }\n",
              "      }\n",
              "      const blob = new Blob(buffers, {type: 'application/binary'});\n",
              "      const a = document.createElement('a');\n",
              "      a.href = window.URL.createObjectURL(blob);\n",
              "      a.download = filename;\n",
              "      div.appendChild(a);\n",
              "      a.click();\n",
              "      div.remove();\n",
              "    }\n",
              "  "
            ]
          },
          "metadata": {}
        },
        {
          "output_type": "display_data",
          "data": {
            "text/plain": [
              "<IPython.core.display.Javascript object>"
            ],
            "application/javascript": [
              "download(\"download_9c2e7323-c1b8-4bc1-9f77-d6e6f3bbf5d3\", \"Argo_CMS_Analysis_Memory.csv\", 389)"
            ]
          },
          "metadata": {}
        },
        {
          "output_type": "display_data",
          "data": {
            "text/plain": [
              "<IPython.core.display.Javascript object>"
            ],
            "application/javascript": [
              "\n",
              "    async function download(id, filename, size) {\n",
              "      if (!google.colab.kernel.accessAllowed) {\n",
              "        return;\n",
              "      }\n",
              "      const div = document.createElement('div');\n",
              "      const label = document.createElement('label');\n",
              "      label.textContent = `Downloading \"${filename}\": `;\n",
              "      div.appendChild(label);\n",
              "      const progress = document.createElement('progress');\n",
              "      progress.max = size;\n",
              "      div.appendChild(progress);\n",
              "      document.body.appendChild(div);\n",
              "\n",
              "      const buffers = [];\n",
              "      let downloaded = 0;\n",
              "\n",
              "      const channel = await google.colab.kernel.comms.open(id);\n",
              "      // Send a message to notify the kernel that we're ready.\n",
              "      channel.send({})\n",
              "\n",
              "      for await (const message of channel.messages) {\n",
              "        // Send a message to notify the kernel that we're ready.\n",
              "        channel.send({})\n",
              "        if (message.buffers) {\n",
              "          for (const buffer of message.buffers) {\n",
              "            buffers.push(buffer);\n",
              "            downloaded += buffer.byteLength;\n",
              "            progress.value = downloaded;\n",
              "          }\n",
              "        }\n",
              "      }\n",
              "      const blob = new Blob(buffers, {type: 'application/binary'});\n",
              "      const a = document.createElement('a');\n",
              "      a.href = window.URL.createObjectURL(blob);\n",
              "      a.download = filename;\n",
              "      div.appendChild(a);\n",
              "      a.click();\n",
              "      div.remove();\n",
              "    }\n",
              "  "
            ]
          },
          "metadata": {}
        },
        {
          "output_type": "display_data",
          "data": {
            "text/plain": [
              "<IPython.core.display.Javascript object>"
            ],
            "application/javascript": [
              "download(\"download_e1f6c0a1-1e65-41f1-b7d9-c13d0fd00b35\", \"Argo_CMS_Analysis_Disk.csv\", 326)"
            ]
          },
          "metadata": {}
        }
      ]
    },
    {
      "cell_type": "code",
      "source": [
        "files.download(f'{wms}_{workflow}_Sent_Bytes.csv')\n",
        "files.download(f'{wms}_{workflow}_Received_Bytes.csv')"
      ],
      "metadata": {
        "colab": {
          "base_uri": "https://localhost:8080/",
          "height": 17
        },
        "id": "J2OzmppF0mm8",
        "outputId": "b6eeb24b-0982-42e8-932a-ab19c508c58d"
      },
      "execution_count": 22,
      "outputs": [
        {
          "output_type": "display_data",
          "data": {
            "text/plain": [
              "<IPython.core.display.Javascript object>"
            ],
            "application/javascript": [
              "\n",
              "    async function download(id, filename, size) {\n",
              "      if (!google.colab.kernel.accessAllowed) {\n",
              "        return;\n",
              "      }\n",
              "      const div = document.createElement('div');\n",
              "      const label = document.createElement('label');\n",
              "      label.textContent = `Downloading \"${filename}\": `;\n",
              "      div.appendChild(label);\n",
              "      const progress = document.createElement('progress');\n",
              "      progress.max = size;\n",
              "      div.appendChild(progress);\n",
              "      document.body.appendChild(div);\n",
              "\n",
              "      const buffers = [];\n",
              "      let downloaded = 0;\n",
              "\n",
              "      const channel = await google.colab.kernel.comms.open(id);\n",
              "      // Send a message to notify the kernel that we're ready.\n",
              "      channel.send({})\n",
              "\n",
              "      for await (const message of channel.messages) {\n",
              "        // Send a message to notify the kernel that we're ready.\n",
              "        channel.send({})\n",
              "        if (message.buffers) {\n",
              "          for (const buffer of message.buffers) {\n",
              "            buffers.push(buffer);\n",
              "            downloaded += buffer.byteLength;\n",
              "            progress.value = downloaded;\n",
              "          }\n",
              "        }\n",
              "      }\n",
              "      const blob = new Blob(buffers, {type: 'application/binary'});\n",
              "      const a = document.createElement('a');\n",
              "      a.href = window.URL.createObjectURL(blob);\n",
              "      a.download = filename;\n",
              "      div.appendChild(a);\n",
              "      a.click();\n",
              "      div.remove();\n",
              "    }\n",
              "  "
            ]
          },
          "metadata": {}
        },
        {
          "output_type": "display_data",
          "data": {
            "text/plain": [
              "<IPython.core.display.Javascript object>"
            ],
            "application/javascript": [
              "download(\"download_057478dd-72a9-4359-965f-c11d6a664ad4\", \"Argo_CMS_Analysis_Sent_Bytes.csv\", 143)"
            ]
          },
          "metadata": {}
        },
        {
          "output_type": "display_data",
          "data": {
            "text/plain": [
              "<IPython.core.display.Javascript object>"
            ],
            "application/javascript": [
              "\n",
              "    async function download(id, filename, size) {\n",
              "      if (!google.colab.kernel.accessAllowed) {\n",
              "        return;\n",
              "      }\n",
              "      const div = document.createElement('div');\n",
              "      const label = document.createElement('label');\n",
              "      label.textContent = `Downloading \"${filename}\": `;\n",
              "      div.appendChild(label);\n",
              "      const progress = document.createElement('progress');\n",
              "      progress.max = size;\n",
              "      div.appendChild(progress);\n",
              "      document.body.appendChild(div);\n",
              "\n",
              "      const buffers = [];\n",
              "      let downloaded = 0;\n",
              "\n",
              "      const channel = await google.colab.kernel.comms.open(id);\n",
              "      // Send a message to notify the kernel that we're ready.\n",
              "      channel.send({})\n",
              "\n",
              "      for await (const message of channel.messages) {\n",
              "        // Send a message to notify the kernel that we're ready.\n",
              "        channel.send({})\n",
              "        if (message.buffers) {\n",
              "          for (const buffer of message.buffers) {\n",
              "            buffers.push(buffer);\n",
              "            downloaded += buffer.byteLength;\n",
              "            progress.value = downloaded;\n",
              "          }\n",
              "        }\n",
              "      }\n",
              "      const blob = new Blob(buffers, {type: 'application/binary'});\n",
              "      const a = document.createElement('a');\n",
              "      a.href = window.URL.createObjectURL(blob);\n",
              "      a.download = filename;\n",
              "      div.appendChild(a);\n",
              "      a.click();\n",
              "      div.remove();\n",
              "    }\n",
              "  "
            ]
          },
          "metadata": {}
        },
        {
          "output_type": "display_data",
          "data": {
            "text/plain": [
              "<IPython.core.display.Javascript object>"
            ],
            "application/javascript": [
              "download(\"download_ad04dfc3-1926-447e-b46f-3c920f1e2934\", \"Argo_CMS_Analysis_Received_Bytes.csv\", 149)"
            ]
          },
          "metadata": {}
        }
      ]
    },
    {
      "cell_type": "markdown",
      "source": [
        "##4. Line Graph Data"
      ],
      "metadata": {
        "id": "0N9fhlMD-ST6"
      }
    },
    {
      "cell_type": "code",
      "source": [
        "# Extract useful columns\n",
        "usage_data_df = resources_df[[\"Duration (Seconds)\", \"CPU_Usage\", \"Memory_Usage\", \"Disk_Usage\"]]\n",
        "usage_data_df[\"Disk_Usage\"] = usage_data_df[\"Disk_Usage\"] - usage_data_df[\"Disk_Usage\"][0]\n",
        "usage_data_df.to_csv(f'{wms}_{workflow}_Timeseries.csv', index = False)\n",
        "files.download(f'{wms}_{workflow}_Timeseries.csv')"
      ],
      "metadata": {
        "colab": {
          "base_uri": "https://localhost:8080/",
          "height": 148
        },
        "id": "KFGhlF7K-iSt",
        "outputId": "53ab21fc-9d2a-4cda-ed38-d7af0820716b"
      },
      "execution_count": 23,
      "outputs": [
        {
          "output_type": "stream",
          "name": "stderr",
          "text": [
            "<ipython-input-23-0a4eb3231075>:3: SettingWithCopyWarning: \n",
            "A value is trying to be set on a copy of a slice from a DataFrame.\n",
            "Try using .loc[row_indexer,col_indexer] = value instead\n",
            "\n",
            "See the caveats in the documentation: https://pandas.pydata.org/pandas-docs/stable/user_guide/indexing.html#returning-a-view-versus-a-copy\n",
            "  usage_data_df[\"Disk_Usage\"] = usage_data_df[\"Disk_Usage\"] - usage_data_df[\"Disk_Usage\"][0]\n"
          ]
        },
        {
          "output_type": "display_data",
          "data": {
            "text/plain": [
              "<IPython.core.display.Javascript object>"
            ],
            "application/javascript": [
              "\n",
              "    async function download(id, filename, size) {\n",
              "      if (!google.colab.kernel.accessAllowed) {\n",
              "        return;\n",
              "      }\n",
              "      const div = document.createElement('div');\n",
              "      const label = document.createElement('label');\n",
              "      label.textContent = `Downloading \"${filename}\": `;\n",
              "      div.appendChild(label);\n",
              "      const progress = document.createElement('progress');\n",
              "      progress.max = size;\n",
              "      div.appendChild(progress);\n",
              "      document.body.appendChild(div);\n",
              "\n",
              "      const buffers = [];\n",
              "      let downloaded = 0;\n",
              "\n",
              "      const channel = await google.colab.kernel.comms.open(id);\n",
              "      // Send a message to notify the kernel that we're ready.\n",
              "      channel.send({})\n",
              "\n",
              "      for await (const message of channel.messages) {\n",
              "        // Send a message to notify the kernel that we're ready.\n",
              "        channel.send({})\n",
              "        if (message.buffers) {\n",
              "          for (const buffer of message.buffers) {\n",
              "            buffers.push(buffer);\n",
              "            downloaded += buffer.byteLength;\n",
              "            progress.value = downloaded;\n",
              "          }\n",
              "        }\n",
              "      }\n",
              "      const blob = new Blob(buffers, {type: 'application/binary'});\n",
              "      const a = document.createElement('a');\n",
              "      a.href = window.URL.createObjectURL(blob);\n",
              "      a.download = filename;\n",
              "      div.appendChild(a);\n",
              "      a.click();\n",
              "      div.remove();\n",
              "    }\n",
              "  "
            ]
          },
          "metadata": {}
        },
        {
          "output_type": "display_data",
          "data": {
            "text/plain": [
              "<IPython.core.display.Javascript object>"
            ],
            "application/javascript": [
              "download(\"download_a2ac3601-7615-4fcb-b11e-907861de3d09\", \"Argo_CMS_Analysis_Timeseries.csv\", 612749)"
            ]
          },
          "metadata": {}
        }
      ]
    }
  ]
}