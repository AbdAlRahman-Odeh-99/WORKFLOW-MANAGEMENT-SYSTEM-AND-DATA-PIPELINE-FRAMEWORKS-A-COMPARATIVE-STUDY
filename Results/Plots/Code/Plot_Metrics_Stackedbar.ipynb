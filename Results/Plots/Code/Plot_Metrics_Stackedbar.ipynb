{
  "nbformat": 4,
  "nbformat_minor": 0,
  "metadata": {
    "colab": {
      "provenance": []
    },
    "kernelspec": {
      "name": "python3",
      "display_name": "Python 3"
    },
    "language_info": {
      "name": "python"
    }
  },
  "cells": [
    {
      "cell_type": "markdown",
      "source": [
        "#Plot Stacked Bar Charts"
      ],
      "metadata": {
        "id": "L9AbMmgVNTQV"
      }
    },
    {
      "cell_type": "markdown",
      "source": [
        "##1. Install & Import Libraries"
      ],
      "metadata": {
        "id": "GusiXq69NYkC"
      }
    },
    {
      "cell_type": "code",
      "source": [
        "# Install libraries\n",
        "! pip install kaleido"
      ],
      "metadata": {
        "colab": {
          "base_uri": "https://localhost:8080/"
        },
        "id": "KqKhBf_gMAKL",
        "outputId": "d814e52f-8d71-4482-8182-a766a56e3d92"
      },
      "execution_count": 8,
      "outputs": [
        {
          "output_type": "stream",
          "name": "stdout",
          "text": [
            "Looking in indexes: https://pypi.org/simple, https://us-python.pkg.dev/colab-wheels/public/simple/\n",
            "Requirement already satisfied: kaleido in /usr/local/lib/python3.9/dist-packages (0.2.1)\n"
          ]
        }
      ]
    },
    {
      "cell_type": "code",
      "source": [
        "# Import libraries\n",
        "import pandas as pd\n",
        "import plotly.graph_objs as go\n",
        "from google.colab import files"
      ],
      "metadata": {
        "id": "1Nxf5Gb4czZi"
      },
      "execution_count": 9,
      "outputs": []
    },
    {
      "cell_type": "markdown",
      "source": [
        "##2. Define Required Functions"
      ],
      "metadata": {
        "id": "G1zi3hG2NiLb"
      }
    },
    {
      "cell_type": "code",
      "source": [
        "# Define a fucntion to return the WMS and Components\n",
        "def return_wms(wms_series, component_series):\n",
        "  wms_list = list(set(df[\"WMS\"]))\n",
        "  component_list = list(set(df[\"Component\"]))\n",
        "  wms_list.sort()\n",
        "  component_list.sort()\n",
        "\n",
        "  return wms_list, component_list"
      ],
      "metadata": {
        "id": "A80NwIT-In3S"
      },
      "execution_count": 10,
      "outputs": []
    },
    {
      "cell_type": "code",
      "source": [
        "# Define a fucntion to return the data to plot\n",
        "def return_data(df, metric):\n",
        "  metric = metric.upper()\n",
        "  cpu_server = df.loc[df['Component'] == 'SERVER_USAGE', f'{metric}_CPU_USAGE'].to_list()\n",
        "  cpu_workflow = df.loc[df['Component'] == 'WORKFLOW_USAGE', f'{metric}_CPU_USAGE'].to_list()\n",
        "  memory_server = df.loc[df['Component'] == 'SERVER_USAGE', f'{metric}_MEMORY_USAGE'].to_list()\n",
        "  memory_workflow = df.loc[df['Component'] == 'WORKFLOW_USAGE', f'{metric}_MEMORY_USAGE'].to_list()\n",
        "\n",
        "  cpu_server = [round(num, 2) for num in cpu_server]\n",
        "  cpu_workflow = [round(num, 2) for num in cpu_workflow]\n",
        "  memory_server = [round(num, 2) for num in memory_server]\n",
        "  memory_workflow = [round(num, 2) for num in memory_workflow]\n",
        "\n",
        "  return cpu_server, cpu_workflow, memory_server, memory_workflow"
      ],
      "metadata": {
        "id": "KP6YWwWXFRIx"
      },
      "execution_count": 11,
      "outputs": []
    },
    {
      "cell_type": "code",
      "source": [
        "# Define a fucntion to plot the data\n",
        "def plot(workflow, metric, wms_list, cpu_server, cpu_workflow, memory_server, memory_workflow):\n",
        "  \n",
        "  total_cpu = []\n",
        "  total_memory = []\n",
        "  for i in range(len(cpu_server)):\n",
        "    total_cpu.append(round(cpu_server[i] + cpu_workflow[i], 2))\n",
        "  for i in range(len(memory_server)):\n",
        "    total_memory.append(round(memory_server[i] + memory_workflow[i], 2))\n",
        "\n",
        "  if metric == \"CV\":\n",
        "    fontsize = 8\n",
        "  else:\n",
        "    fontsize = 9\n",
        "\n",
        "  fig = go.Figure(\n",
        "    data = [\n",
        "        go.Bar(x = wms_list, y = cpu_server, offsetgroup = 0, name = f'CPU % {metric} (Server)', marker = {'color': \"#2F75B5\"}, text = cpu_server, textposition = 'inside', insidetextanchor = 'middle', textfont = {'color': \"black\", 'size': fontsize}, width = 0.4),\n",
        "        go.Bar(x = wms_list, y = cpu_workflow, offsetgroup = 0, base = cpu_server, name = f'CPU % {metric} (Workflow)', marker = {'color': \"#FF4B4B\"}, text = cpu_workflow, textposition = 'inside', insidetextanchor = 'middle', textfont = {'color': \"black\", 'size': fontsize}, width = 0.4),\n",
        "        go.Bar(x = wms_list, y = memory_server, offsetgroup = 1, name = f'Memory % {metric} (Server)', marker = {'color': \"#70AD47\"}, text = memory_server, textposition = 'inside', insidetextanchor = 'middle', textfont = {'color': \"black\", 'size': fontsize}, width = 0.4),\n",
        "        go.Bar(x = wms_list, y = memory_workflow, offsetgroup = 1, base = memory_server, name = f'Memory % {metric} (Workflow)', marker = {'color': \"#FFC000\"}, text = memory_workflow, textposition = 'inside', insidetextanchor = 'middle', textfont = {'color': \"black\", 'size': fontsize}, width = 0.4),\n",
        "        go.Scatter(x = wms_list, y = total_cpu, text = total_cpu, mode = 'text', textposition = 'top left',  textfont = {'color': \"black\", 'size': 12}, showlegend = False),\n",
        "        go.Scatter(x = wms_list, y = total_memory, text = total_memory, mode = 'text', textposition = 'top right',  textfont = {'color': \"black\", 'size': 12}, showlegend = False),\n",
        "    ]\n",
        "  )\n",
        "\n",
        "  fig.update_layout(xaxis=dict(showgrid=False), xaxis_title = \"Workflow Management System\")\n",
        "  if metric == \"Average\" or metric == \"CV\":\n",
        "    fig.update_layout(yaxis_title = \"Percentage (%)\")\n",
        "  else:\n",
        "    fig.update_layout(yaxis_title = \"Standard Deviation\")\n",
        "\n",
        "  fig.write_image(f\"{workflow}_{metric}.png\")\n",
        "  files.download(f\"{workflow}_{metric}.png\")"
      ],
      "metadata": {
        "id": "VHRLa7HLGJ-0"
      },
      "execution_count": 46,
      "outputs": []
    },
    {
      "cell_type": "markdown",
      "source": [
        "##3. Plot the Data"
      ],
      "metadata": {
        "id": "oxMNEETeNyTv"
      }
    },
    {
      "cell_type": "code",
      "source": [
        "workflows_list = [\"BSM_Search\", \"CMS_Analysis\"]\n",
        "metric_list = [\"Average\", \"STD\", \"CV\"]"
      ],
      "metadata": {
        "id": "Nu3UaBtvDMnD"
      },
      "execution_count": 42,
      "outputs": []
    },
    {
      "cell_type": "code",
      "source": [
        "for workflow in workflows_list:\n",
        "  for metric in metric_list:\n",
        "    df = pd.read_csv(f\"/content/{workflow}_Merged_{metric}.csv\")\n",
        "    wms_list, component_list  = return_wms(df[\"WMS\"], df[\"Component\"])\n",
        "    cpu_server, cpu_workflow, memory_server, memory_workflow = return_data(df, metric)\n",
        "    plot(workflow, metric, wms_list, cpu_server, cpu_workflow, memory_server, memory_workflow)"
      ],
      "metadata": {
        "colab": {
          "base_uri": "https://localhost:8080/",
          "height": 17
        },
        "id": "GAxr6yOOI3xK",
        "outputId": "51a4db30-b92a-4632-eb94-856d84a1bfd3"
      },
      "execution_count": 47,
      "outputs": [
        {
          "output_type": "display_data",
          "data": {
            "text/plain": [
              "<IPython.core.display.Javascript object>"
            ],
            "application/javascript": [
              "\n",
              "    async function download(id, filename, size) {\n",
              "      if (!google.colab.kernel.accessAllowed) {\n",
              "        return;\n",
              "      }\n",
              "      const div = document.createElement('div');\n",
              "      const label = document.createElement('label');\n",
              "      label.textContent = `Downloading \"${filename}\": `;\n",
              "      div.appendChild(label);\n",
              "      const progress = document.createElement('progress');\n",
              "      progress.max = size;\n",
              "      div.appendChild(progress);\n",
              "      document.body.appendChild(div);\n",
              "\n",
              "      const buffers = [];\n",
              "      let downloaded = 0;\n",
              "\n",
              "      const channel = await google.colab.kernel.comms.open(id);\n",
              "      // Send a message to notify the kernel that we're ready.\n",
              "      channel.send({})\n",
              "\n",
              "      for await (const message of channel.messages) {\n",
              "        // Send a message to notify the kernel that we're ready.\n",
              "        channel.send({})\n",
              "        if (message.buffers) {\n",
              "          for (const buffer of message.buffers) {\n",
              "            buffers.push(buffer);\n",
              "            downloaded += buffer.byteLength;\n",
              "            progress.value = downloaded;\n",
              "          }\n",
              "        }\n",
              "      }\n",
              "      const blob = new Blob(buffers, {type: 'application/binary'});\n",
              "      const a = document.createElement('a');\n",
              "      a.href = window.URL.createObjectURL(blob);\n",
              "      a.download = filename;\n",
              "      div.appendChild(a);\n",
              "      a.click();\n",
              "      div.remove();\n",
              "    }\n",
              "  "
            ]
          },
          "metadata": {}
        },
        {
          "output_type": "display_data",
          "data": {
            "text/plain": [
              "<IPython.core.display.Javascript object>"
            ],
            "application/javascript": [
              "download(\"download_ba10164e-8a3c-419f-a148-39e9b34f311f\", \"BSM_Search_Average.png\", 50918)"
            ]
          },
          "metadata": {}
        },
        {
          "output_type": "display_data",
          "data": {
            "text/plain": [
              "<IPython.core.display.Javascript object>"
            ],
            "application/javascript": [
              "\n",
              "    async function download(id, filename, size) {\n",
              "      if (!google.colab.kernel.accessAllowed) {\n",
              "        return;\n",
              "      }\n",
              "      const div = document.createElement('div');\n",
              "      const label = document.createElement('label');\n",
              "      label.textContent = `Downloading \"${filename}\": `;\n",
              "      div.appendChild(label);\n",
              "      const progress = document.createElement('progress');\n",
              "      progress.max = size;\n",
              "      div.appendChild(progress);\n",
              "      document.body.appendChild(div);\n",
              "\n",
              "      const buffers = [];\n",
              "      let downloaded = 0;\n",
              "\n",
              "      const channel = await google.colab.kernel.comms.open(id);\n",
              "      // Send a message to notify the kernel that we're ready.\n",
              "      channel.send({})\n",
              "\n",
              "      for await (const message of channel.messages) {\n",
              "        // Send a message to notify the kernel that we're ready.\n",
              "        channel.send({})\n",
              "        if (message.buffers) {\n",
              "          for (const buffer of message.buffers) {\n",
              "            buffers.push(buffer);\n",
              "            downloaded += buffer.byteLength;\n",
              "            progress.value = downloaded;\n",
              "          }\n",
              "        }\n",
              "      }\n",
              "      const blob = new Blob(buffers, {type: 'application/binary'});\n",
              "      const a = document.createElement('a');\n",
              "      a.href = window.URL.createObjectURL(blob);\n",
              "      a.download = filename;\n",
              "      div.appendChild(a);\n",
              "      a.click();\n",
              "      div.remove();\n",
              "    }\n",
              "  "
            ]
          },
          "metadata": {}
        },
        {
          "output_type": "display_data",
          "data": {
            "text/plain": [
              "<IPython.core.display.Javascript object>"
            ],
            "application/javascript": [
              "download(\"download_1c01707e-b80b-4cce-a22d-c14b6ec400bb\", \"BSM_Search_STD.png\", 48776)"
            ]
          },
          "metadata": {}
        },
        {
          "output_type": "display_data",
          "data": {
            "text/plain": [
              "<IPython.core.display.Javascript object>"
            ],
            "application/javascript": [
              "\n",
              "    async function download(id, filename, size) {\n",
              "      if (!google.colab.kernel.accessAllowed) {\n",
              "        return;\n",
              "      }\n",
              "      const div = document.createElement('div');\n",
              "      const label = document.createElement('label');\n",
              "      label.textContent = `Downloading \"${filename}\": `;\n",
              "      div.appendChild(label);\n",
              "      const progress = document.createElement('progress');\n",
              "      progress.max = size;\n",
              "      div.appendChild(progress);\n",
              "      document.body.appendChild(div);\n",
              "\n",
              "      const buffers = [];\n",
              "      let downloaded = 0;\n",
              "\n",
              "      const channel = await google.colab.kernel.comms.open(id);\n",
              "      // Send a message to notify the kernel that we're ready.\n",
              "      channel.send({})\n",
              "\n",
              "      for await (const message of channel.messages) {\n",
              "        // Send a message to notify the kernel that we're ready.\n",
              "        channel.send({})\n",
              "        if (message.buffers) {\n",
              "          for (const buffer of message.buffers) {\n",
              "            buffers.push(buffer);\n",
              "            downloaded += buffer.byteLength;\n",
              "            progress.value = downloaded;\n",
              "          }\n",
              "        }\n",
              "      }\n",
              "      const blob = new Blob(buffers, {type: 'application/binary'});\n",
              "      const a = document.createElement('a');\n",
              "      a.href = window.URL.createObjectURL(blob);\n",
              "      a.download = filename;\n",
              "      div.appendChild(a);\n",
              "      a.click();\n",
              "      div.remove();\n",
              "    }\n",
              "  "
            ]
          },
          "metadata": {}
        },
        {
          "output_type": "display_data",
          "data": {
            "text/plain": [
              "<IPython.core.display.Javascript object>"
            ],
            "application/javascript": [
              "download(\"download_970b9477-fd5e-404e-bc5a-25b956773818\", \"BSM_Search_CV.png\", 51681)"
            ]
          },
          "metadata": {}
        },
        {
          "output_type": "display_data",
          "data": {
            "text/plain": [
              "<IPython.core.display.Javascript object>"
            ],
            "application/javascript": [
              "\n",
              "    async function download(id, filename, size) {\n",
              "      if (!google.colab.kernel.accessAllowed) {\n",
              "        return;\n",
              "      }\n",
              "      const div = document.createElement('div');\n",
              "      const label = document.createElement('label');\n",
              "      label.textContent = `Downloading \"${filename}\": `;\n",
              "      div.appendChild(label);\n",
              "      const progress = document.createElement('progress');\n",
              "      progress.max = size;\n",
              "      div.appendChild(progress);\n",
              "      document.body.appendChild(div);\n",
              "\n",
              "      const buffers = [];\n",
              "      let downloaded = 0;\n",
              "\n",
              "      const channel = await google.colab.kernel.comms.open(id);\n",
              "      // Send a message to notify the kernel that we're ready.\n",
              "      channel.send({})\n",
              "\n",
              "      for await (const message of channel.messages) {\n",
              "        // Send a message to notify the kernel that we're ready.\n",
              "        channel.send({})\n",
              "        if (message.buffers) {\n",
              "          for (const buffer of message.buffers) {\n",
              "            buffers.push(buffer);\n",
              "            downloaded += buffer.byteLength;\n",
              "            progress.value = downloaded;\n",
              "          }\n",
              "        }\n",
              "      }\n",
              "      const blob = new Blob(buffers, {type: 'application/binary'});\n",
              "      const a = document.createElement('a');\n",
              "      a.href = window.URL.createObjectURL(blob);\n",
              "      a.download = filename;\n",
              "      div.appendChild(a);\n",
              "      a.click();\n",
              "      div.remove();\n",
              "    }\n",
              "  "
            ]
          },
          "metadata": {}
        },
        {
          "output_type": "display_data",
          "data": {
            "text/plain": [
              "<IPython.core.display.Javascript object>"
            ],
            "application/javascript": [
              "download(\"download_51fe4f87-85fa-4fe4-9151-9779e366507b\", \"CMS_Analysis_Average.png\", 51032)"
            ]
          },
          "metadata": {}
        },
        {
          "output_type": "display_data",
          "data": {
            "text/plain": [
              "<IPython.core.display.Javascript object>"
            ],
            "application/javascript": [
              "\n",
              "    async function download(id, filename, size) {\n",
              "      if (!google.colab.kernel.accessAllowed) {\n",
              "        return;\n",
              "      }\n",
              "      const div = document.createElement('div');\n",
              "      const label = document.createElement('label');\n",
              "      label.textContent = `Downloading \"${filename}\": `;\n",
              "      div.appendChild(label);\n",
              "      const progress = document.createElement('progress');\n",
              "      progress.max = size;\n",
              "      div.appendChild(progress);\n",
              "      document.body.appendChild(div);\n",
              "\n",
              "      const buffers = [];\n",
              "      let downloaded = 0;\n",
              "\n",
              "      const channel = await google.colab.kernel.comms.open(id);\n",
              "      // Send a message to notify the kernel that we're ready.\n",
              "      channel.send({})\n",
              "\n",
              "      for await (const message of channel.messages) {\n",
              "        // Send a message to notify the kernel that we're ready.\n",
              "        channel.send({})\n",
              "        if (message.buffers) {\n",
              "          for (const buffer of message.buffers) {\n",
              "            buffers.push(buffer);\n",
              "            downloaded += buffer.byteLength;\n",
              "            progress.value = downloaded;\n",
              "          }\n",
              "        }\n",
              "      }\n",
              "      const blob = new Blob(buffers, {type: 'application/binary'});\n",
              "      const a = document.createElement('a');\n",
              "      a.href = window.URL.createObjectURL(blob);\n",
              "      a.download = filename;\n",
              "      div.appendChild(a);\n",
              "      a.click();\n",
              "      div.remove();\n",
              "    }\n",
              "  "
            ]
          },
          "metadata": {}
        },
        {
          "output_type": "display_data",
          "data": {
            "text/plain": [
              "<IPython.core.display.Javascript object>"
            ],
            "application/javascript": [
              "download(\"download_dd5bd185-2f12-48f0-bd24-e4e2659c96f4\", \"CMS_Analysis_STD.png\", 49793)"
            ]
          },
          "metadata": {}
        },
        {
          "output_type": "display_data",
          "data": {
            "text/plain": [
              "<IPython.core.display.Javascript object>"
            ],
            "application/javascript": [
              "\n",
              "    async function download(id, filename, size) {\n",
              "      if (!google.colab.kernel.accessAllowed) {\n",
              "        return;\n",
              "      }\n",
              "      const div = document.createElement('div');\n",
              "      const label = document.createElement('label');\n",
              "      label.textContent = `Downloading \"${filename}\": `;\n",
              "      div.appendChild(label);\n",
              "      const progress = document.createElement('progress');\n",
              "      progress.max = size;\n",
              "      div.appendChild(progress);\n",
              "      document.body.appendChild(div);\n",
              "\n",
              "      const buffers = [];\n",
              "      let downloaded = 0;\n",
              "\n",
              "      const channel = await google.colab.kernel.comms.open(id);\n",
              "      // Send a message to notify the kernel that we're ready.\n",
              "      channel.send({})\n",
              "\n",
              "      for await (const message of channel.messages) {\n",
              "        // Send a message to notify the kernel that we're ready.\n",
              "        channel.send({})\n",
              "        if (message.buffers) {\n",
              "          for (const buffer of message.buffers) {\n",
              "            buffers.push(buffer);\n",
              "            downloaded += buffer.byteLength;\n",
              "            progress.value = downloaded;\n",
              "          }\n",
              "        }\n",
              "      }\n",
              "      const blob = new Blob(buffers, {type: 'application/binary'});\n",
              "      const a = document.createElement('a');\n",
              "      a.href = window.URL.createObjectURL(blob);\n",
              "      a.download = filename;\n",
              "      div.appendChild(a);\n",
              "      a.click();\n",
              "      div.remove();\n",
              "    }\n",
              "  "
            ]
          },
          "metadata": {}
        },
        {
          "output_type": "display_data",
          "data": {
            "text/plain": [
              "<IPython.core.display.Javascript object>"
            ],
            "application/javascript": [
              "download(\"download_b4d03726-c7da-4131-ae50-166145bec2eb\", \"CMS_Analysis_CV.png\", 50980)"
            ]
          },
          "metadata": {}
        }
      ]
    }
  ]
}